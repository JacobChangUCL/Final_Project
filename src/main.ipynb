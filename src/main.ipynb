{
 "cells": [
  {
   "cell_type": "code",
   "outputs": [],
   "source": [
    "#This file defines the patient agent, doctor agent and laboratory agent,then agents will interact with each other to simulate a medical diagnosis process.\n",
    "\n",
    "import openai  # OpenAI API is pretty expensive,try to find something to change it\n",
    "import time"
   ],
   "metadata": {
    "collapsed": false,
    "ExecuteTime": {
     "end_time": "2024-12-30T07:16:43.164667Z",
     "start_time": "2024-12-30T07:16:43.164667Z"
    }
   },
   "id": "7e93fb40b061c8f3",
   "execution_count": null
  },
  {
   "cell_type": "code",
   "outputs": [],
   "source": [
    "#delete it before submitting\n",
    "openai.api_key = \"\""
   ],
   "metadata": {
    "collapsed": false
   },
   "id": "6835decf9eea5111",
   "execution_count": null
  },
  {
   "cell_type": "code",
   "outputs": [],
   "source": [
    "#for judging if the data is valid\n",
    "import json\n",
    "\n",
    "file_path = \"MedQA_organized.jsonl\"\n",
    "\n",
    "with open(file_path, \"r\", encoding=\"utf-8\") as f:\n",
    "    for idx, line in enumerate(f, start=1):\n",
    "        line = line.strip()\n",
    "        if not line:\n",
    "            continue  # 跳过空行\n",
    "        try:\n",
    "            obj = json.loads(line)\n",
    "            print(f\"Line {idx} parsed successfully:\", obj)\n",
    "        except json.JSONDecodeError as e:\n",
    "            print(f\"Line {idx} JSONDecodeError: {e}\")"
   ],
   "metadata": {
    "collapsed": false
   },
   "id": "6616e40b78788f89",
   "execution_count": null
  },
  {
   "cell_type": "code",
   "outputs": [],
   "source": [
    "import json\n",
    "\n",
    "file_path = 'MedQA_organized.jsonl'\n",
    "data = []\n",
    "with open(file_path, 'r', encoding='utf-8') as f:\n",
    "    for line in f:\n",
    "        # 去掉换行符\n",
    "        line = line.strip()\n",
    "        # 如果这行内容不是空的，就解析成 Python 对\n",
    "        data.append(json.loads(line))\n",
    "        print(data)\n"
   ],
   "metadata": {
    "collapsed": false,
    "ExecuteTime": {
     "start_time": "2024-12-30T07:16:43.167736Z"
    }
   },
   "id": "e315729407aa1745",
   "execution_count": null
  },
  {
   "cell_type": "code",
   "outputs": [],
   "source": [
    "print(data[2])"
   ],
   "metadata": {
    "collapsed": false,
    "ExecuteTime": {
     "start_time": "2024-12-30T07:16:43.169317Z"
    }
   },
   "id": "374b83d511ea4620",
   "execution_count": null
  },
  {
   "cell_type": "code",
   "outputs": [],
   "source": [
    "class DataDistributor:\n",
    "    \"\"\"\n",
    "    Structure data from a json object.\n",
    "    \"\"\"\n",
    "    def __init__(self, json_object):\n",
    "        self.patient_information = json_object['Patient Information']\n",
    "        self.disease = json_object['Correct_Diagnosis']\n",
    "        self.physical_examination_findings=json_object['Physical_Examination_Findings']\n",
    "        self.test_result = json_object['Test_Results']\n",
    "    \n",
    "    def get_summary(self):\n",
    "        \"\"\"\n",
    "        Return a summary of the structured data.\n",
    "        \"\"\"\n",
    "        return {\n",
    "            \"Patient Information\": self.patient_information,\n",
    "            \"Correct Diagnosis\": self.disease,\n",
    "            \"Physical Examination Findings\": self.physical_examination_findings,\n",
    "            \"Test Results\": self.test_result,\n",
    "        }\n",
    "    "
   ],
   "metadata": {
    "collapsed": false,
    "ExecuteTime": {
     "end_time": "2024-12-30T07:16:44.164673Z",
     "start_time": "2024-12-30T07:16:44.154126Z"
    }
   },
   "id": "64f672c85ee6659a",
   "execution_count": 47
  },
  {
   "cell_type": "code",
   "outputs": [],
   "source": [
    "a=DataDistributor(data[2])\n"
   ],
   "metadata": {
    "collapsed": false,
    "ExecuteTime": {
     "end_time": "2024-12-30T08:47:28.825868Z",
     "start_time": "2024-12-30T08:46:46.720764Z"
    }
   },
   "id": "6deee911be7f69c8",
   "execution_count": 99
  },
  {
   "cell_type": "code",
   "outputs": [
    {
     "ename": "AttributeError",
     "evalue": "'DataDistributor' object has no attribute 'patient_informationLabor'",
     "output_type": "error",
     "traceback": [
      "\u001B[1;31m---------------------------------------------------------------------------\u001B[0m",
      "\u001B[1;31mAttributeError\u001B[0m                            Traceback (most recent call last)",
      "Cell \u001B[1;32mIn[98], line 1\u001B[0m\n\u001B[1;32m----> 1\u001B[0m \u001B[43ma\u001B[49m\u001B[38;5;241;43m.\u001B[39;49m\u001B[43mpatient_informationLabor\u001B[49m\n",
      "\u001B[1;31mAttributeError\u001B[0m: 'DataDistributor' object has no attribute 'patient_informationLabor'"
     ]
    }
   ],
   "source": [
    "a.patient_informationLabor"
   ],
   "metadata": {
    "collapsed": false,
    "ExecuteTime": {
     "end_time": "2024-12-30T08:46:14.538515Z",
     "start_time": "2024-12-30T08:46:07.203520Z"
    }
   },
   "id": "5c1314013c412d86",
   "execution_count": 98
  },
  {
   "cell_type": "markdown",
   "source": [],
   "metadata": {
    "collapsed": false
   },
   "id": "cff115facbdeb0dc"
  },
  {
   "cell_type": "code",
   "outputs": [],
   "source": [
    "#逻辑：三个agent，病人、医生和实验室\n",
    "#实验室是个函数，接受医生的测试请求，返回测试结果。如果没有相关的测试则返回正常。\n",
    "\n",
    "\n",
    "class Laboratory:\n",
    "    \"\"\"\n",
    "    Return measurement results based on the doctor's request.\n",
    "    \"\"\"\n",
    "    prompt = \"你将扮演一个用于医学检查的实验室。\"\n",
    "   \n",
    "    def __init__(self, data_distributor):\n",
    "        self.Test_Results = data_distributor.test_result\n",
    "    def get_result(self, doctor_request):\n",
    "        \"\"\"\n",
    "        Return the result of the test.\n",
    "        \"\"\"\n",
    "        messages = [\n",
    "        {\"role\": \"system\", \"content\": Laboratory.prompt},\n",
    "        {\"role\": \"user\", \"content\": f\"医生请求检查:{doctor_request}\"+\n",
    "                         f\"这是检查结果的列表{self.Test_Results}\"+\n",
    "                         \"请直接回复对应的检查结果，不需要添加额外信息\"},\n",
    "            ]\n",
    "        response = openai.ChatCompletion.create(\n",
    "                model=\"gpt-4o\",\n",
    "                messages=messages,\n",
    "            )\n",
    "            \n",
    "        return response.choices[0].message['content']\n",
    "        "
   ],
   "metadata": {
    "collapsed": true,
    "ExecuteTime": {
     "end_time": "2024-12-30T08:24:54.316499Z",
     "start_time": "2024-12-30T08:24:54.295228Z"
    }
   },
   "id": "initial_id",
   "execution_count": 95
  },
  {
   "cell_type": "code",
   "outputs": [],
   "source": [
    "def asking_question(model_name,prompt,system_prompt,max_retries=2,time_out=10):\n",
    "    \"\"\"\n",
    "    ask the model and return the answer\n",
    "    \"\"\"\n",
    "    valid_model = [\"gpt4o\"]\n",
    "    if model_name not in valid_model:\n",
    "        raise Exception(f\"No model by the name {model_name},all the valid models are {valid_model}\")\n",
    "    \n",
    "    for _ in range(max_retries):\n",
    "        try:\n",
    "            if model_name == \"gpt4o\":\n",
    "                response = openai.ChatCompletion.create(\n",
    "                    model=\"gpt-4o\",\n",
    "                    messages=[\n",
    "                        {\"role\": \"system\", \"content\": system_prompt},\n",
    "                        {\"role\": \"user\", \"content\": prompt},\n",
    "                    ],\n",
    "                )\n",
    "                return  response[\"choices\"][0][\"message\"][\"content\"]\n",
    "            \n",
    "            \n",
    "        except Exception as e:\n",
    "            print(e)\n",
    "            time.sleep(time_out)\n",
    "            continue"
   ],
   "metadata": {
    "collapsed": false,
    "ExecuteTime": {
     "end_time": "2024-12-30T08:25:08.245246Z",
     "start_time": "2024-12-30T08:25:08.223215Z"
    }
   },
   "id": "6b79be7cde322e0e",
   "execution_count": 96
  },
  {
   "cell_type": "code",
   "outputs": [
    {
     "name": "stdout",
     "output_type": "stream",
     "text": [
      "gpt4o\n"
     ]
    }
   ],
   "source": [
    "class Patient:\n",
    "    \"\"\"\n",
    "    Return measurement results based on the doctor's request.\n",
    "    \"\"\"\n",
    "\n",
    "    \n",
    "    def __init__(self, data_distributor, backend=\"gpt4o\"):\n",
    "        self.info = data_distributor.patient_information\n",
    "        self.backend = backend\n",
    "        self.conversation_history = \"\" #history of conversation\n",
    "    \n",
    "    def return_question(self, doctor_question)->str:\n",
    "        #可以考虑增加历史对话的压缩机制\n",
    "        \"\"\"\n",
    "        Return the answer of doctor's question.\n",
    "        \"\"\"\n",
    "        input_prompt =  \"\\n下面是你的对话历史: \" + self.conversation_history + \"\\n 下面是医生的回复: \"+ doctor_question +\"\\n\"+ \"现在请继续你的对话\\nPatient: \"\n",
    "        answer = asking_question(self.backend,input_prompt, self.system_prompt())\n",
    "        self.conversation_history += doctor_question+ \"\\n\\n\" + answer + \"\\n\\n\"  #继续对话\n",
    "        return answer\n",
    "    \n",
    "    \n",
    "    def system_prompt(self) -> str:\n",
    "        #we can add more templates and put them into another file\n",
    "        core_prompt=\"\"\"You are role-playing as a patient in a clinic. A doctor is inspecting you to identify your disease by asking questions and performing examinations. Your task is to respond naturally and concisely to the doctor's questions.\n",
    "            Instructions:\n",
    "            1. Strictly answer the questions based on the \"Patient Information.\" If the answer to the doctor's question is found in the \"Patient Information,\" respond according to its content. If it is not found in the \"Patient Information,\" respond the doctor with normal information.\"\n",
    "            2. Only answer in dialogue form, as if you were speaking directly to the doctor.\n",
    "            2. Your responses should be brief, realistic, and limited below 4 sentences.\n",
    "            3. Provide information that a patient might reasonably say in this scenario.\n",
    "            4. Do not elaborate or provide excessive details unless explicitly asked.\"\"\"\n",
    "        \n",
    "        patient_info_prompt = f\"\\n\\nBelow is all of your information. {self.info}.\"\n",
    "        return core_prompt + patient_info_prompt\n",
    "    \n",
    "    def reset(self) -> None:\n",
    "        self.conversation_history = \"\"\n",
    "\n",
    "#Now we can test the patient agent\n",
    "a.patient_information\n",
    "patient_agent = Patient(a)\n",
    "patient_agent.return_question(\"你好，你过去有什么医疗记录吗\")"
   ],
   "metadata": {
    "collapsed": false,
    "is_executing": true,
    "ExecuteTime": {
     "start_time": "2024-12-30T10:45:37.666854Z"
    }
   },
   "id": "ff13a302a928dad4",
   "execution_count": null
  },
  {
   "cell_type": "code",
   "outputs": [],
   "source": [
    "#Now we can test the patient agent\n",
    "a.patient_information\n",
    "patient_agent = Patient(a)"
   ],
   "metadata": {
    "collapsed": false,
    "ExecuteTime": {
     "end_time": "2024-12-30T08:51:39.727979Z",
     "start_time": "2024-12-30T08:51:23.034024Z"
    }
   },
   "id": "bc1a9844b925f776",
   "execution_count": 101
  },
  {
   "cell_type": "code",
   "outputs": [
    {
     "name": "stdout",
     "output_type": "stream",
     "text": [
      "gpt4o\n"
     ]
    },
    {
     "data": {
      "text/plain": "'我已经有8年的2型糖尿病病史。'"
     },
     "execution_count": 91,
     "metadata": {},
     "output_type": "execute_result"
    }
   ],
   "source": [
    "patient_agent.return_question(\"你好，你过去有什么医疗记录吗\")"
   ],
   "metadata": {
    "collapsed": false,
    "ExecuteTime": {
     "end_time": "2024-12-30T07:30:43.645968Z",
     "start_time": "2024-12-30T07:30:42.118127Z"
    }
   },
   "id": "42728f38889487a4",
   "execution_count": 91
  },
  {
   "cell_type": "code",
   "outputs": [
    {
     "data": {
      "text/plain": "'你好，我是你的医生\\n\\n您好，医生。最近我在做运动时，只要把右脚抬到胸部以上，就会感到脚底刺痛。而且用跑步机的坡度功能时，右小腿会抽筋。休息几分钟后，这些疼痛就会消失。\\n\\n你好，你还有什么症状吗\\n\\n没有其他症状了。休息后疼痛会消失，没有背痛，肌肉力量也正常。\\n\\n你好，你过去有什么医疗记录吗\\n\\n我已经有8年的2型糖尿病病史。\\n\\n'"
     },
     "execution_count": 92,
     "metadata": {},
     "output_type": "execute_result"
    }
   ],
   "source": [
    "patient_agent.conversation_history"
   ],
   "metadata": {
    "collapsed": false,
    "ExecuteTime": {
     "end_time": "2024-12-30T07:39:37.004167Z",
     "start_time": "2024-12-30T07:39:36.990927Z"
    }
   },
   "id": "ff006a3ff74840e9",
   "execution_count": 92
  },
  {
   "cell_type": "code",
   "outputs": [],
   "source": [
    "#some features can be added: 1.choose the backbone LLM 2.choose the prompt template 3.maximum conversation turns\n",
    "#4. memory storage(maybe can be shared by the patient agent),could add summary mechanism to reduce the memory size\n",
    "#jupyter notebook的问题：1.断点在最左边 2.所有待调试代码必须放在同一单元格里，否则跳转时会出错。 3.单步调试我的代码按钮不要碰。"
   ],
   "metadata": {
    "collapsed": false
   },
   "id": "76020b3bd161832f"
  },
  {
   "cell_type": "code",
   "outputs": [],
   "source": [
    "class Doctor:\n",
    "    \"\"\"\n",
    "    Doctor类用于模拟医生与病人之间的对话、提问和诊断流程。其功能包括：\n",
    "    1. 根据病人回复（patient_answer）生成后续问题或检查请求；\n",
    "    2. 记录并管理对话历史；(self.conversation_history)\n",
    "    3. 在达到设定的最大提问次数后，结束对话并进行诊断。\n",
    "\n",
    "    Attributes:\n",
    "        num_conversation (int): 已向病人提出的问题数量。\n",
    "        max_conversation (int): 医生可提出的最大问题数量，在此之后需结束对话。\n",
    "        backend (str): 用于生成对话问题的语言模型名称(default:GPT4o)。\n",
    "        conversation_history (str): 医患对话的历史记录。\n",
    "\n",
    "    Methods:\n",
    "        __init__(backend=\"gpt4o\", max_converstion=20):\n",
    "            初始化Doctor实例，并设置对话后端与最大提问次数。\n",
    "\n",
    "        return_question(patient_answer: str) -> str:\n",
    "            根据病人的回答生成新的提问或检查请求，若已超出最大提问次数则返回“diagnosis ended”。\n",
    "\n",
    "        system_prompt() -> str:\n",
    "            生成对患者端的系统提示语，用于指导患者如何回答医生的问题。\n",
    "\n",
    "        reset() -> None:\n",
    "            重置对话记录和问题计数器，以便进行新的诊断会话。\n",
    "\n",
    "    Usage Example:\n",
    "        >>> # 创建一个Doctor对象\n",
    "        >>> doctor = Doctor(backend=\"gpt4o\", max_conversation=5)\n",
    "        >>> # 医生向病人提问\n",
    "        >>> question = doctor.return_question(\"我最近胸口有点闷，偶尔伴随咳嗽。\")\n",
    "        >>> print(question)\n",
    "        # 输出一段新的问题或检查请求，例如“你咳嗽有痰吗？持续了多久？”\n",
    "    \"\"\"\n",
    "    def __init__(self, backend=\"gpt4o\",max_conversation=10):\n",
    "        \"\"\"\n",
    "        Doctor doesn't need initial data in chinese clinical environment\n",
    "        :param max_conversation: the max conversation between patient and doctor\n",
    "        \"\"\"\n",
    "        self.num_conversation=0\n",
    "        self.max_conversation=max_conversation\n",
    "        self.backend = backend\n",
    "        self.conversation_history = \"\" #history of conversation\n",
    "    \n",
    "\n",
    "    def return_question(self, patient_answer)->str:\n",
    "        #可以考虑增加历史对话的压缩机制\n",
    "        \"\"\"\n",
    "        ask a question to the patient agent\n",
    "        \"\"\"\n",
    "        if self.num_conversation>self.max_conversation:\n",
    "            return \"diagnosis ended\"\n",
    "        \n",
    "        input_prompt =(\n",
    "            f\"在做出诊断前你最多只能提出 {self.max_conversation} 个问题，到目前为止，你已提出了{self.num_conversation}个问题\"\n",
    "            f\"\\n下面是你的对话历史:{self.conversation_history } \"\n",
    "            \"\\n 下面是病人本次的回复:{patient_answer} \"\n",
    "            \"\\n现在请继续你的对话\\nDoctor: \"\n",
    "        )\n",
    "        \n",
    "        question = asking_question(self.backend,input_prompt, self.system_prompt())\n",
    "        \n",
    "        self.conversation_history += patient_answer+ \"\\n\" + question + \"\\n\"  #继续对话\n",
    "        \n",
    "        self.num_conversation+=1\n",
    "        return question\n",
    "    def system_prompt(self) -> str:\n",
    "        #we can add more templates and put them into another file\n",
    "        core_prompt=\"\"\"你是一名专业的临床医生，正与一名病人进行对话。你可以通过提问来获取病人的病史、症状及其他关键信息，也可以向实验室（Laboratory）提出检查请求。实验室会根据你的请求返回对应的检查结果；若该检查结果正常且不关键，则返回“结果正常”。\n",
    "        你的目标是：\n",
    "        1. 通过与病人的有限次数对话（例如最多 10 次）收集足够的病情信息；\n",
    "        2. 必要时向实验室发起检查请求，严格遵循下面的格式: 开具检查:[检查名称];\n",
    "        3. 你也可以向助手申请身体检查，严格遵循下面的格式: 开具检查:[检查名称];\n",
    "        4. 在充分了解病情后，使用  诊断结果: [具体诊断内容]给出最终诊断。\n",
    "        5. 在尽可能搜集必要信息的前提下，尽可能降低总提问次数\n",
    "        \n",
    "        请注意以下要求：\n",
    "        - 避免重复已提问的问题,如果你认为无需提出新的问题，则尽快完成诊断\n",
    "        - 你的每次对话应小于3句，并保持专业、简洁；\n",
    "        - 仅在需要时请求实验室检查；\n",
    "        - 如果病人问到与诊断无关或暂时无关的问题，可以简短地回避或重申重点；\n",
    "        - 一旦你认为信息已足够，请尽快完成诊断，避免过度询问；\n",
    "        请基于以上规则展开你的问诊流程，并根据病人的回答实时调整策略。\"\"\"\n",
    "\n",
    "        return core_prompt \n",
    "    \n",
    "    def reset(self) -> None:\n",
    "        self.conversation_history = \"\"\n",
    "        self.num_conversation=0\n",
    "\n",
    "#Now we can test the doctor agent"
   ],
   "metadata": {
    "collapsed": false,
    "ExecuteTime": {
     "end_time": "2025-01-02T06:56:50.091724Z",
     "start_time": "2025-01-02T06:56:50.057483Z"
    }
   },
   "id": "d0ee86e27e8cc321",
   "execution_count": 108
  },
  {
   "cell_type": "code",
   "outputs": [],
   "source": [
    "#unit Testing\n",
    "doctor=Doctor(max_conversation=5)\n"
   ],
   "metadata": {
    "collapsed": false,
    "ExecuteTime": {
     "end_time": "2025-01-02T07:12:11.442951Z",
     "start_time": "2025-01-02T07:12:11.432414Z"
    }
   },
   "id": "265fcf1c7a6513f2",
   "execution_count": 123
  },
  {
   "cell_type": "code",
   "outputs": [
    {
     "data": {
      "text/plain": "5"
     },
     "execution_count": 124,
     "metadata": {},
     "output_type": "execute_result"
    }
   ],
   "source": [
    "doctor.max_conversation"
   ],
   "metadata": {
    "collapsed": false,
    "ExecuteTime": {
     "end_time": "2025-01-02T07:12:21.785298Z",
     "start_time": "2025-01-02T07:12:21.768145Z"
    }
   },
   "id": "6626b95ab4048b5",
   "execution_count": 124
  },
  {
   "cell_type": "code",
   "outputs": [
    {
     "name": "stdout",
     "output_type": "stream",
     "text": [
      "gpt4o\n"
     ]
    },
    {
     "data": {
      "text/plain": "'请告诉我您的主要症状是什么，以及这些症状持续了多长时间？'"
     },
     "execution_count": 110,
     "metadata": {},
     "output_type": "execute_result"
    }
   ],
   "source": [
    "doctor.return_question(\"\")"
   ],
   "metadata": {
    "collapsed": false,
    "ExecuteTime": {
     "end_time": "2025-01-02T07:02:15.311111Z",
     "start_time": "2025-01-02T07:02:13.234711Z"
    }
   },
   "id": "6f643f1f714553a0",
   "execution_count": 110
  },
  {
   "cell_type": "code",
   "outputs": [
    {
     "name": "stdout",
     "output_type": "stream",
     "text": [
      "gpt4o\n"
     ]
    },
    {
     "data": {
      "text/plain": "'请描述一下您是否有其他相关症状，例如发烧、咳嗽、腹泻或皮疹等？'"
     },
     "execution_count": 111,
     "metadata": {},
     "output_type": "execute_result"
    }
   ],
   "source": [
    "doctor.return_question(\"我最近不太舒服，老是流鼻涕，发烧，打喷嚏\")"
   ],
   "metadata": {
    "collapsed": false,
    "ExecuteTime": {
     "end_time": "2025-01-02T07:03:40.823884Z",
     "start_time": "2025-01-02T07:03:39.144570Z"
    }
   },
   "id": "55b4c1ba99a35020",
   "execution_count": 111
  },
  {
   "cell_type": "code",
   "outputs": [
    {
     "name": "stdout",
     "output_type": "stream",
     "text": [
      "gpt4o\n"
     ]
    },
    {
     "data": {
      "text/plain": "'您提到有发烧、流鼻涕和打喷嚏，请问您是否有喉咙痛或咳嗽？这些症状出现前是否接触过感冒的人？'"
     },
     "execution_count": 112,
     "metadata": {},
     "output_type": "execute_result"
    }
   ],
   "source": [
    "doctor.return_question(\"我没有腹泻和皮疹，只是发烧且不停地打喷嚏\")"
   ],
   "metadata": {
    "collapsed": false,
    "ExecuteTime": {
     "end_time": "2025-01-02T07:04:11.627757Z",
     "start_time": "2025-01-02T07:04:09.570698Z"
    }
   },
   "id": "823acd997cd54423",
   "execution_count": 112
  },
  {
   "cell_type": "code",
   "outputs": [
    {
     "name": "stdout",
     "output_type": "stream",
     "text": [
      "gpt4o\n"
     ]
    },
    {
     "data": {
      "text/plain": "'请告诉我这些症状持续了多长时间？在这之前是否有旅行史或季节性过敏？'"
     },
     "execution_count": 113,
     "metadata": {},
     "output_type": "execute_result"
    }
   ],
   "source": [
    "doctor.return_question(\"我不知道是否接触过感冒的人，我的喉咙有点痛，也有点咳嗽\")"
   ],
   "metadata": {
    "collapsed": false,
    "ExecuteTime": {
     "end_time": "2025-01-02T07:04:49.935814Z",
     "start_time": "2025-01-02T07:04:48.231309Z"
    }
   },
   "id": "b5f1a08adacef133",
   "execution_count": 113
  },
  {
   "cell_type": "code",
   "outputs": [
    {
     "name": "stdout",
     "output_type": "stream",
     "text": [
      "gpt4o\n"
     ]
    },
    {
     "data": {
      "text/plain": "'请告诉我这些症状已经持续了多长时间了？以及之前的任何旅行史或季节性过敏是否存在？'"
     },
     "execution_count": 114,
     "metadata": {},
     "output_type": "execute_result"
    }
   ],
   "source": [
    "doctor.return_question(\"持续三天了，没有旅行史或者过敏\")"
   ],
   "metadata": {
    "collapsed": false,
    "ExecuteTime": {
     "end_time": "2025-01-02T07:05:27.997644Z",
     "start_time": "2025-01-02T07:05:26.354249Z"
    }
   },
   "id": "6d86e77bca9e4adc",
   "execution_count": 114
  },
  {
   "cell_type": "code",
   "outputs": [
    {
     "name": "stdout",
     "output_type": "stream",
     "text": [
      "gpt4o\n"
     ]
    },
    {
     "data": {
      "text/plain": "'是否在过去几天内曾经接触过有类似症状的人？此外，您有服用过什么药物或进行自我治疗吗？'"
     },
     "execution_count": 115,
     "metadata": {},
     "output_type": "execute_result"
    }
   ],
   "source": [
    "doctor.return_question(\"持续三天了，没有旅行史或者过敏\")"
   ],
   "metadata": {
    "collapsed": false,
    "ExecuteTime": {
     "end_time": "2025-01-02T07:05:41.431043Z",
     "start_time": "2025-01-02T07:05:40.381460Z"
    }
   },
   "id": "96f3c4442d1f7dcf",
   "execution_count": 115
  },
  {
   "cell_type": "code",
   "outputs": [
    {
     "name": "stdout",
     "output_type": "stream",
     "text": [
      "gpt4o\n"
     ]
    },
    {
     "data": {
      "text/plain": "'请告诉我，您在三天内的体温最高达到多少度？另外，您在这段时间里是否有任何其他感到不适的地方，比如疲倦、肌肉酸痛或头痛？'"
     },
     "execution_count": 116,
     "metadata": {},
     "output_type": "execute_result"
    }
   ],
   "source": [
    "doctor.return_question(\"没有自我治疗，不知道是否接触了类似症状的人\")"
   ],
   "metadata": {
    "collapsed": false,
    "ExecuteTime": {
     "end_time": "2025-01-02T07:06:25.863938Z",
     "start_time": "2025-01-02T07:06:24.056979Z"
    }
   },
   "id": "284de99a21a96275",
   "execution_count": 116
  },
  {
   "cell_type": "code",
   "outputs": [
    {
     "data": {
      "text/plain": "7"
     },
     "execution_count": 118,
     "metadata": {},
     "output_type": "execute_result"
    }
   ],
   "source": [
    "#seems over the max conversation limit\n",
    "doctor.num_conversation"
   ],
   "metadata": {
    "collapsed": false,
    "ExecuteTime": {
     "end_time": "2025-01-02T07:07:21.479988Z",
     "start_time": "2025-01-02T07:07:21.465257Z"
    }
   },
   "id": "64d78632362e024e",
   "execution_count": 118
  },
  {
   "cell_type": "code",
   "outputs": [
    {
     "name": "stdout",
     "output_type": "stream",
     "text": [
      "gpt4o\n"
     ]
    },
    {
     "data": {
      "text/plain": "'请问您在三天内的体温最高达到多少度？另外，您在这段时间里是否有感到疲倦、肌肉酸痛或头痛之类的不适？'"
     },
     "execution_count": 119,
     "metadata": {},
     "output_type": "execute_result"
    }
   ],
   "source": [
    "doctor.return_question(\"大约39度，疲倦，肌肉酸痛，头痛\")"
   ],
   "metadata": {
    "collapsed": false,
    "ExecuteTime": {
     "end_time": "2025-01-02T07:08:44.164960Z",
     "start_time": "2025-01-02T07:08:42.417630Z"
    }
   },
   "id": "d906d51644cd4bb",
   "execution_count": 119
  },
  {
   "cell_type": "code",
   "outputs": [
    {
     "name": "stdout",
     "output_type": "stream",
     "text": [
      "gpt4o\n"
     ]
    },
    {
     "data": {
      "text/plain": "'您描述的症状，包括高烧、流鼻涕、打喷嚏、喉咙痛、咳嗽、疲倦、肌肉酸痛和头痛，通常与感冒或流感类似。为了更准确的诊断，我想确认一下，您有没有任何呼吸困难或胸痛的症状？'"
     },
     "execution_count": 120,
     "metadata": {},
     "output_type": "execute_result"
    }
   ],
   "source": [
    "doctor.return_question(\"大约39度，疲倦，肌肉酸痛，头痛\")"
   ],
   "metadata": {
    "collapsed": false,
    "ExecuteTime": {
     "end_time": "2025-01-02T07:08:54.277149Z",
     "start_time": "2025-01-02T07:08:52.693904Z"
    }
   },
   "id": "1a6da28358f4aa80",
   "execution_count": 120
  },
  {
   "cell_type": "code",
   "outputs": [
    {
     "name": "stdout",
     "output_type": "stream",
     "text": [
      "gpt4o\n"
     ]
    },
    {
     "data": {
      "text/plain": "'有没有任何呼吸困难或胸痛的症状？这将帮助我更好地了解您的情况。如果没有，请让我知道。'"
     },
     "execution_count": 121,
     "metadata": {},
     "output_type": "execute_result"
    }
   ],
   "source": [
    "doctor.return_question(\"没有呼吸困难或胸痛\")"
   ],
   "metadata": {
    "collapsed": false,
    "ExecuteTime": {
     "end_time": "2025-01-02T07:09:16.482054Z",
     "start_time": "2025-01-02T07:09:14.766982Z"
    }
   },
   "id": "6a480a19ce22ac95",
   "execution_count": 121
  },
  {
   "cell_type": "code",
   "outputs": [
    {
     "name": "stdout",
     "output_type": "stream",
     "text": [
      "gpt4o\n"
     ]
    },
    {
     "data": {
      "text/plain": "'对话历史已超过十轮，现在我将进行诊断。基于你描述的症状，包括流鼻涕、发烧、打喷嚏、喉咙痛、咳嗽、疲倦、肌肉酸痛和头痛，我认为你可能患有流感或上呼吸道感染。建议多休息、补充水分，并可服用退烧药和感冒药以减轻症状。若症状持续恶化或出现新的症状，请及时就医。\\n\\n诊断结果: 流感或上呼吸道感染。'"
     },
     "execution_count": 122,
     "metadata": {},
     "output_type": "execute_result"
    }
   ],
   "source": [
    "doctor.return_question(\"没有呼吸困难或胸痛\")"
   ],
   "metadata": {
    "collapsed": false,
    "ExecuteTime": {
     "end_time": "2025-01-02T07:09:30.261559Z",
     "start_time": "2025-01-02T07:09:25.720810Z"
    }
   },
   "id": "8a3c581e6818b888",
   "execution_count": 122
  },
  {
   "cell_type": "code",
   "outputs": [],
   "source": [
    "#perfect，but there are some bug in the conversation。1.the doctor may ask similar question\n",
    "#2.the doctor would like to reach the conversation limit even it is not necessary"
   ],
   "metadata": {
    "collapsed": false
   },
   "id": "caa1bf0b6edf9dd0"
  },
  {
   "cell_type": "code",
   "outputs": [
    {
     "name": "stdout",
     "output_type": "stream",
     "text": [
      "gpt4o\n",
      "Hello, doctor. Recently, I've been experiencing swelling and pain in my right knee. I also have some back pain that’s been bothering me.\n",
      "gpt4o\n",
      "请告诉我您此次就诊的主要不适症状以及持续了多长时间。\n",
      "gpt4o\n",
      "主要不适症状是右膝肿胀和疼痛，已经持续了一段时间。\n",
      "gpt4o\n",
      "请问您的膝盖和背部疼痛具体持续了多长时间？此外，您最近是否有过伤？\n",
      "gpt4o\n",
      "我的右膝疼痛和肿胀已经好几周了，背部疼痛则持续了更长的时间。我最近没有受过伤。\n",
      "gpt4o\n",
      "请问您膝盖和背部的疼痛具体持续了多长时间？另外，最近有没有曾经受过伤？\n",
      "gpt4o\n",
      "我的右膝疼痛和肿胀已经有好几周了，至于背部，疼痛时间要更长一些。我最近没有受过伤。\n",
      "gpt4o\n",
      "请问您膝盖疼痛是否伴有任何活动受限或无法承重的情况？此外，背痛是否在某些姿势或活动中加重？\n",
      "gpt4o\n",
      "是的，我的膝盖疼痛使我走路有些困难，有时候感觉无法承重。至于背痛，在长时间站立或坐着时会加重。\n",
      "gpt4o\n",
      "请问您膝盖疼痛是否伴有任何活动受限或无法承重的情况？此外，背痛是否在某些姿势或活动中加重？\n",
      "gpt4o\n",
      "是的，我的膝盖疼痛让走路变得困难，有时感觉难以承受重量。我的背痛在长时间站立或坐着时会加重。\n",
      "gpt4o\n",
      "我需要进行更多检查以帮助诊断。为此，我将开具一些实验室检查请求。开具检查: [膝关节X光]和[血液检查 - 血沉、C反应蛋白]。\n",
      "gpt4o\n",
      "I've been really concerned about my physical appearance. I'm struggling with acne and unwanted facial hair. These issues have been bothering me since I was a teenager.\n",
      "gpt4o\n",
      "请描述一下您的主要症状和持续时间？是否有任何明显的诱因或缓解因素？\n",
      "gpt4o\n",
      "关于我的主要症状，首先是从青春期开始持续的痤疮，其次是不需要的面部毛发。没有明显的诱因就是这些症状始终如一，并没有终止或改善。\n",
      "gpt4o\n",
      "您提到的主要症状有痤疮和不想要的面部毛发。请问您是否有月经不规律、体重增加或情绪波动等其他相关症状？这些问题是否有任何家族史？\n",
      "gpt4o\n",
      "是的，我有月经不规律，大约每45天一次。体重有时候会波动。家里有2型糖尿病的家族史。\n",
      "gpt4o\n",
      "您提到的症状可能与激素失衡有关。请问您是否曾进行过任何激素水平的检查？另外，您的生活方式或饮食习惯是否有显著变化？\n",
      "gpt4o\n",
      "我没有做过具体的激素水平检查。我的饮食和生活方式一直没有特别大的变化。\n",
      "gpt4o\n",
      "您提到的激素检查或生活方式变化可能有助于我们了解病情。请您告诉我，最近是否进行过激素检查？如果没有，我会为您安排。\n",
      "gpt4o\n",
      "我没有进行过激素检查。如果您认为需要，我愿意进行相关检查以便更好地了解我的情况。\n",
      "gpt4o\n",
      "由于您之前未进行过激素水平的检查，为了更准确了解您的病情，我建议进行一些实验室检查。开具检查:激素水平检查（包括睾酮、雌激素、黄体生成素和促卵泡激素）。\n",
      "gpt4o\n",
      "我理解，这听起来是个好主意。我愿意配合做这些检查以便更好地了解和处理我的情况。谢谢您的建议。\n",
      "gpt4o\n",
      "激素水平检查结果显示：您的睾酮水平略高，这可能解释了您一些症状的原因。基于现有信息，诊断结果: 多囊卵巢综合征（PCOS）。建议您进一步与内分泌科医生讨论可能的治疗方案，及如何管理这些症状。若有其他疑问或需要更多信息，请随时联系我。\n",
      "gpt4o\n",
      "I've been having tingling pain in the sole of my right foot when it's raised above chest level during exercises, and I’m also experiencing cramping in my right calf when I use the incline on the treadmill.\n",
      "gpt4o\n",
      "请描述一下您最近的症状，包括持续了多长时间，以及症状的严重程度。\n",
      "gpt4o\n",
      "最近，这些症状已经持续了大约6周。疼痛感特别是在脚提到胸部以上时比较明显，而右小腿在使用跑步机坡度功能时会抽筋，这通常会让我不得不停下来休息。疼痛在休息几分钟后就会消失。\n",
      "gpt4o\n",
      "这种症状持续有多久了？在日常活动中是否也会感到不适，很快能缓解吗？\n",
      "gpt4o\n",
      "不适感主要是在锻炼时出现，像是脚抬高或使用跑步机坡度功能。我通常休息几分钟后，疼痛就会缓解。在日常活动中基本不会出现这种症状。\n",
      "gpt4o\n",
      "根据您的描述，您还有没有注意到右腿或脚部的颜色改变，或者是否感觉它们比左腿更冷？\n",
      "gpt4o\n",
      "没有，我没有注意到任何颜色的变化，也没有感觉到它们比左腿更冷。\n",
      "gpt4o\n",
      "您有注意到右腿或脚部的颜色改变，或者是否感觉它们比左腿更冷吗？\n",
      "gpt4o\n",
      "没有，我没有注意到右腿或脚部的颜色改变，也没有感觉到它们比左腿更冷。\n",
      "gpt4o\n",
      "您是否有高血压、糖尿病、高胆固醇或是吸烟等心血管风险因素？这些信息有助于我们评估症状背后的原因。\n",
      "gpt4o\n",
      "我有糖尿病，已经持续8年了。我每天还抽两包烟，已经有34年的吸烟史。这些是我想到的风险因素。\n",
      "gpt4o\n",
      "诊断结果: 根据您描述的症状，特别是在运动时感到右脚的刺痛和右小腿痉挛，并在休息后缓解，这些特征可能与间歇性跛行有关。这通常与腿部的动脉血流不足有关。建议您尽快就医，以便进行进一步的评估，包括可能的血液循环检测和其他需要的检查，以确认诊断和指导治疗方案。\n"
     ]
    }
   ],
   "source": [
    "conversation_history=\"\"\n",
    "total_inferences=5\n",
    "#one of the problem is that the doctor agent trends\n",
    "for _case in data:\n",
    "    #initial data\n",
    "    case=DataDistributor(_case) \n",
    "    patient_agent=Patient(case)\n",
    "    laboratory=Laboratory(case)\n",
    "    doctor=Doctor(max_conversation=total_inferences)\n",
    "    \n",
    "    #start inference\n",
    "    doctor_question=\"Hello, I’m doctor. Could you tell me what’s been bothering you recently or if you have any symptoms you’d like to share?\"    #let's hypnosis that the doctor will say the first sentence\n",
    "    for round_idx in range(total_inferences+1):\n",
    "    #     if round_idx == total_inferences - 1:\n",
    "    #         conversation_history += \"This is the final question. Please provide a diagnosis.\\n  maybe we don't need\n",
    "        patient_answer=patient_agent.return_question(doctor_question) #doctor ask question\n",
    "        print(patient_answer)\n",
    "        doctor_question=doctor.return_question(patient_answer) #patient return answer\n",
    "        print(doctor_question)\n",
    "    "
   ],
   "metadata": {
    "collapsed": false,
    "ExecuteTime": {
     "end_time": "2025-01-03T16:56:12.346646Z",
     "start_time": "2025-01-03T16:55:27.551860Z"
    }
   },
   "id": "e1c66cfb6dc1a298",
   "execution_count": 129
  },
  {
   "cell_type": "code",
   "outputs": [],
   "source": [
    "\n"
   ],
   "metadata": {
    "collapsed": false
   },
   "id": "bc88f35642ae34d3"
  }
 ],
 "metadata": {
  "kernelspec": {
   "display_name": "Python 3",
   "language": "python",
   "name": "python3"
  },
  "language_info": {
   "codemirror_mode": {
    "name": "ipython",
    "version": 2
   },
   "file_extension": ".py",
   "mimetype": "text/x-python",
   "name": "python",
   "nbconvert_exporter": "python",
   "pygments_lexer": "ipython2",
   "version": "2.7.6"
  }
 },
 "nbformat": 4,
 "nbformat_minor": 5
}

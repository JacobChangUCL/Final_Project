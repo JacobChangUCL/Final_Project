{
 "cells": [
  {
   "cell_type": "code",
   "outputs": [],
   "source": [
    "#This file defines the patient agent, doctor agent and laboratory agent,then agents will interact with each other to simulate a medical diagnosis process.\n",
    "\n",
    "import openai  # OpenAI API is pretty expensive,try to find something to change it\n",
    "import time"
   ],
   "metadata": {
    "collapsed": false,
    "ExecuteTime": {
     "end_time": "2024-12-30T07:16:43.164667Z",
     "start_time": "2024-12-30T07:16:43.164667Z"
    }
   },
   "id": "7e93fb40b061c8f3",
   "execution_count": null
  },
  {
   "cell_type": "code",
   "outputs": [],
   "source": [
    "#delete it before submitting\n",
    "openai.api_key = \"\""
   ],
   "metadata": {
    "collapsed": false
   },
   "id": "6835decf9eea5111",
   "execution_count": null
  },
  {
   "cell_type": "code",
   "outputs": [],
   "source": [
    "#for judging if the data is valid\n",
    "import json\n",
    "\n",
    "file_path = \"MedQA_organized.jsonl\"\n",
    "\n",
    "with open(file_path, \"r\", encoding=\"utf-8\") as f:\n",
    "    for idx, line in enumerate(f, start=1):\n",
    "        line = line.strip()\n",
    "        if not line:\n",
    "            continue  # 跳过空行\n",
    "        try:\n",
    "            obj = json.loads(line)\n",
    "            print(f\"Line {idx} parsed successfully:\", obj)\n",
    "        except json.JSONDecodeError as e:\n",
    "            print(f\"Line {idx} JSONDecodeError: {e}\")"
   ],
   "metadata": {
    "collapsed": false
   },
   "id": "6616e40b78788f89",
   "execution_count": null
  },
  {
   "cell_type": "code",
   "outputs": [],
   "source": [
    "import json\n",
    "\n",
    "file_path = 'MedQA_organized.jsonl'\n",
    "data = []\n",
    "with open(file_path, 'r', encoding='utf-8') as f:\n",
    "    for line in f:\n",
    "        # 去掉换行符\n",
    "        line = line.strip()\n",
    "        # 如果这行内容不是空的，就解析成 Python 对\n",
    "        data.append(json.loads(line))\n",
    "        print(data)\n"
   ],
   "metadata": {
    "collapsed": false,
    "ExecuteTime": {
     "start_time": "2024-12-30T07:16:43.167736Z"
    }
   },
   "id": "e315729407aa1745",
   "execution_count": null
  },
  {
   "cell_type": "code",
   "outputs": [],
   "source": [
    "print(data[2])"
   ],
   "metadata": {
    "collapsed": false,
    "ExecuteTime": {
     "start_time": "2024-12-30T07:16:43.169317Z"
    }
   },
   "id": "374b83d511ea4620",
   "execution_count": null
  },
  {
   "cell_type": "code",
   "outputs": [],
   "source": [
    "class DataDistributor:\n",
    "    \"\"\"\n",
    "    Structure data from a json object.\n",
    "    \"\"\"\n",
    "    def __init__(self, json_object):\n",
    "        self.patient_information = json_object['Patient Information']\n",
    "        self.disease = json_object['Correct_Diagnosis']\n",
    "        self.physical_examination_findings=json_object['Physical_Examination_Findings']\n",
    "        self.test_result = json_object['Test_Results']\n",
    "    \n",
    "    def get_summary(self):\n",
    "        \"\"\"\n",
    "        Return a summary of the structured data.\n",
    "        \"\"\"\n",
    "        return {\n",
    "            \"Patient Information\": self.patient_information,\n",
    "            \"Correct Diagnosis\": self.disease,\n",
    "            \"Physical Examination Findings\": self.physical_examination_findings,\n",
    "            \"Test Results\": self.test_result,\n",
    "        }\n",
    "    "
   ],
   "metadata": {
    "collapsed": false,
    "ExecuteTime": {
     "end_time": "2024-12-30T07:16:44.164673Z",
     "start_time": "2024-12-30T07:16:44.154126Z"
    }
   },
   "id": "64f672c85ee6659a",
   "execution_count": 47
  },
  {
   "cell_type": "code",
   "outputs": [],
   "source": [
    "a=DataDistributor(data[2])\n"
   ],
   "metadata": {
    "collapsed": false,
    "ExecuteTime": {
     "end_time": "2024-12-30T08:47:28.825868Z",
     "start_time": "2024-12-30T08:46:46.720764Z"
    }
   },
   "id": "6deee911be7f69c8",
   "execution_count": 99
  },
  {
   "cell_type": "code",
   "outputs": [
    {
     "ename": "AttributeError",
     "evalue": "'DataDistributor' object has no attribute 'patient_informationLabor'",
     "output_type": "error",
     "traceback": [
      "\u001B[1;31m---------------------------------------------------------------------------\u001B[0m",
      "\u001B[1;31mAttributeError\u001B[0m                            Traceback (most recent call last)",
      "Cell \u001B[1;32mIn[98], line 1\u001B[0m\n\u001B[1;32m----> 1\u001B[0m \u001B[43ma\u001B[49m\u001B[38;5;241;43m.\u001B[39;49m\u001B[43mpatient_informationLabor\u001B[49m\n",
      "\u001B[1;31mAttributeError\u001B[0m: 'DataDistributor' object has no attribute 'patient_informationLabor'"
     ]
    }
   ],
   "source": [
    "a.patient_informationLabor"
   ],
   "metadata": {
    "collapsed": false,
    "ExecuteTime": {
     "end_time": "2024-12-30T08:46:14.538515Z",
     "start_time": "2024-12-30T08:46:07.203520Z"
    }
   },
   "id": "5c1314013c412d86",
   "execution_count": 98
  },
  {
   "cell_type": "markdown",
   "source": [],
   "metadata": {
    "collapsed": false
   },
   "id": "cff115facbdeb0dc"
  },
  {
   "cell_type": "code",
   "outputs": [],
   "source": [
    "#逻辑：三个agent，病人、医生和实验室\n",
    "#实验室是个函数，接受医生的测试请求，返回测试结果。如果没有相关的测试则返回正常。\n",
    "\n",
    "\n",
    "class Laboratory:\n",
    "    \"\"\"\n",
    "    Return measurement results based on the doctor's request.\n",
    "    \"\"\"\n",
    "    prompt = \"你将扮演一个用于医学检查的实验室。\"\n",
    "   \n",
    "    def __init__(self, data_distributor):\n",
    "        self.Test_Results = data_distributor.test_result\n",
    "    def get_result(self, doctor_request):\n",
    "        \"\"\"\n",
    "        Return the result of the test.\n",
    "        \"\"\"\n",
    "        messages = [\n",
    "        {\"role\": \"system\", \"content\": Laboratory.prompt},\n",
    "        {\"role\": \"user\", \"content\": f\"医生请求检查:{doctor_request}\"+\n",
    "                         f\"这是检查结果的列表{self.Test_Results}\"+\n",
    "                         \"请直接回复对应的检查结果，不需要添加额外信息\"},\n",
    "            ]\n",
    "        response = openai.ChatCompletion.create(\n",
    "                model=\"gpt-4o\",\n",
    "                messages=messages,\n",
    "            )\n",
    "            \n",
    "        return response.choices[0].message['content']\n",
    "        "
   ],
   "metadata": {
    "collapsed": true,
    "ExecuteTime": {
     "end_time": "2024-12-30T08:24:54.316499Z",
     "start_time": "2024-12-30T08:24:54.295228Z"
    }
   },
   "id": "initial_id",
   "execution_count": 95
  },
  {
   "cell_type": "code",
   "outputs": [],
   "source": [
    "def asking_question(model_name,prompt,system_prompt,max_retries=2,time_out=10):\n",
    "    \"\"\"\n",
    "    ask the model and return the answer\n",
    "    \"\"\"\n",
    "    valid_model = [\"gpt4o\"]\n",
    "    if model_name not in valid_model:\n",
    "        raise Exception(f\"No model by the name {model_name},all the valid models are {valid_model}\")\n",
    "    \n",
    "    for _ in range(max_retries):\n",
    "        try:\n",
    "            if model_name == \"gpt4o\":\n",
    "                print(model_name)\n",
    "                response = openai.ChatCompletion.create(\n",
    "                    model=\"gpt-4o\",\n",
    "                    messages=[\n",
    "                        {\"role\": \"system\", \"content\": system_prompt},\n",
    "                        {\"role\": \"user\", \"content\": prompt},\n",
    "                    ],\n",
    "                )\n",
    "                return  response[\"choices\"][0][\"message\"][\"content\"]\n",
    "            \n",
    "            \n",
    "        except Exception as e:\n",
    "            print(e)\n",
    "            time.sleep(time_out)\n",
    "            continue"
   ],
   "metadata": {
    "collapsed": false,
    "ExecuteTime": {
     "end_time": "2024-12-30T08:25:08.245246Z",
     "start_time": "2024-12-30T08:25:08.223215Z"
    }
   },
   "id": "6b79be7cde322e0e",
   "execution_count": 96
  },
  {
   "cell_type": "code",
   "outputs": [
    {
     "name": "stdout",
     "output_type": "stream",
     "text": [
      "gpt4o\n"
     ]
    }
   ],
   "source": [
    "class Patient:\n",
    "    \"\"\"\n",
    "    Return measurement results based on the doctor's request.\n",
    "    \"\"\"\n",
    "\n",
    "    \n",
    "    def __init__(self, data_distributor, backend=\"gpt4o\"):\n",
    "        self.info = data_distributor.patient_information\n",
    "        self.backend = backend\n",
    "        self.conversation_history = \"\" #history of conversation\n",
    "    \n",
    "    def return_question(self, doctor_question)->str:\n",
    "        #可以考虑增加历史对话的压缩机制\n",
    "        \"\"\"\n",
    "        Return the answer of doctor's question.\n",
    "        \"\"\"\n",
    "        input_prompt =  \"\\n下面是你的对话历史: \" + self.conversation_history + \"\\n 下面是医生的回复: \"+ doctor_question +\"\\n\"+ \"现在请继续你的对话\\nPatient: \"\n",
    "        answer = asking_question(self.backend,input_prompt, self.system_prompt())\n",
    "        self.conversation_history += doctor_question+ \"\\n\\n\" + answer + \"\\n\\n\"  #继续对话\n",
    "        return answer\n",
    "    \n",
    "    \n",
    "    def system_prompt(self) -> str:\n",
    "        #we can add more templates and put them into another file\n",
    "        core_prompt=\"\"\"You are role-playing as a patient in a clinic. A doctor is inspecting you to identify your disease by asking questions and performing examinations. Your task is to respond naturally and concisely to the doctor's questions.\n",
    "            Instructions:\n",
    "            1. Strictly answer the questions based on the \"Patient Information.\" If the answer to the doctor's question is found in the \"Patient Information,\" respond according to its content. If it is not found in the \"Patient Information,\" respond the doctor with normal information.\"\n",
    "            2. Only answer in dialogue form, as if you were speaking directly to the doctor.\n",
    "            2. Your responses should be brief, realistic, and limited below 4 sentences.\n",
    "            3. Provide information that a patient might reasonably say in this scenario.\n",
    "            4. Do not elaborate or provide excessive details unless explicitly asked.\"\"\"\n",
    "        \n",
    "        patient_info_prompt = f\"\\n\\nBelow is all of your information. {self.info}.\"\n",
    "        return core_prompt + patient_info_prompt\n",
    "    \n",
    "    def reset(self) -> None:\n",
    "        self.conversation_history = \"\"\n",
    "\n",
    "#Now we can test the patient agent\n",
    "a.patient_information\n",
    "patient_agent = Patient(a)\n",
    "patient_agent.return_question(\"你好，你过去有什么医疗记录吗\")"
   ],
   "metadata": {
    "collapsed": false,
    "is_executing": true,
    "ExecuteTime": {
     "start_time": "2024-12-30T10:45:37.666854Z"
    }
   },
   "id": "ff13a302a928dad4",
   "execution_count": null
  },
  {
   "cell_type": "code",
   "outputs": [],
   "source": [
    "#Now we can test the patient agent\n",
    "a.patient_information\n",
    "patient_agent = Patient(a)"
   ],
   "metadata": {
    "collapsed": false,
    "ExecuteTime": {
     "end_time": "2024-12-30T08:51:39.727979Z",
     "start_time": "2024-12-30T08:51:23.034024Z"
    }
   },
   "id": "bc1a9844b925f776",
   "execution_count": 101
  },
  {
   "cell_type": "code",
   "outputs": [
    {
     "name": "stdout",
     "output_type": "stream",
     "text": [
      "gpt4o\n"
     ]
    },
    {
     "data": {
      "text/plain": "'我已经有8年的2型糖尿病病史。'"
     },
     "execution_count": 91,
     "metadata": {},
     "output_type": "execute_result"
    }
   ],
   "source": [
    "patient_agent.return_question(\"你好，你过去有什么医疗记录吗\")"
   ],
   "metadata": {
    "collapsed": false,
    "ExecuteTime": {
     "end_time": "2024-12-30T07:30:43.645968Z",
     "start_time": "2024-12-30T07:30:42.118127Z"
    }
   },
   "id": "42728f38889487a4",
   "execution_count": 91
  },
  {
   "cell_type": "code",
   "outputs": [
    {
     "data": {
      "text/plain": "'你好，我是你的医生\\n\\n您好，医生。最近我在做运动时，只要把右脚抬到胸部以上，就会感到脚底刺痛。而且用跑步机的坡度功能时，右小腿会抽筋。休息几分钟后，这些疼痛就会消失。\\n\\n你好，你还有什么症状吗\\n\\n没有其他症状了。休息后疼痛会消失，没有背痛，肌肉力量也正常。\\n\\n你好，你过去有什么医疗记录吗\\n\\n我已经有8年的2型糖尿病病史。\\n\\n'"
     },
     "execution_count": 92,
     "metadata": {},
     "output_type": "execute_result"
    }
   ],
   "source": [
    "patient_agent.conversation_history"
   ],
   "metadata": {
    "collapsed": false,
    "ExecuteTime": {
     "end_time": "2024-12-30T07:39:37.004167Z",
     "start_time": "2024-12-30T07:39:36.990927Z"
    }
   },
   "id": "ff006a3ff74840e9",
   "execution_count": 92
  },
  {
   "cell_type": "code",
   "outputs": [],
   "source": [
    "#some features can be added: 1.choose the backbone LLM 2.choose the prompt template 3.maximum conversation turns\n",
    "#4. memory storage(maybe can be shared by the patient agent),could add summary mechanism to reduce the memory size\n",
    "#jupyter notebook的问题：1.断点在最左边 2.所有待调试代码必须放在同一单元格里，否则跳转时会出错。 3.单步调试我的代码按钮不要碰。"
   ],
   "metadata": {
    "collapsed": false
   },
   "id": "76020b3bd161832f"
  },
  {
   "cell_type": "code",
   "outputs": [],
   "source": [
    "class Doctor:\n",
    "    \"\"\"\n",
    "    Doctor类用于模拟医生与病人之间的对话、提问和诊断流程。其功能包括：\n",
    "    1. 根据病人回复（patient_answer）生成后续问题或检查请求；\n",
    "    2. 记录并管理对话历史；(self.conversation_history)\n",
    "    3. 在达到设定的最大提问次数后，结束对话并进行诊断。\n",
    "\n",
    "    Attributes:\n",
    "        num_conversation (int): 已向病人提出的问题数量。\n",
    "        max_conversation (int): 医生可提出的最大问题数量，在此之后需结束对话。\n",
    "        backend (str): 用于生成对话问题的语言模型名称(default:GPT4o)。\n",
    "        conversation_history (str): 医患对话的历史记录。\n",
    "\n",
    "    Methods:\n",
    "        __init__(backend=\"gpt4o\", max_converstion=20):\n",
    "            初始化Doctor实例，并设置对话后端与最大提问次数。\n",
    "\n",
    "        return_question(patient_answer: str) -> str:\n",
    "            根据病人的回答生成新的提问或检查请求，若已超出最大提问次数则返回“diagnosis ended”。\n",
    "\n",
    "        system_prompt() -> str:\n",
    "            生成对患者端的系统提示语，用于指导患者如何回答医生的问题。\n",
    "\n",
    "        reset() -> None:\n",
    "            重置对话记录和问题计数器，以便进行新的诊断会话。\n",
    "\n",
    "    Usage Example:\n",
    "        >>> # 创建一个Doctor对象\n",
    "        >>> doctor = Doctor(backend=\"gpt4o\", max_converstion=5)\n",
    "        >>> # 医生向病人提问\n",
    "        >>> question = doctor.return_question(\"我最近胸口有点闷，偶尔伴随咳嗽。\")\n",
    "        >>> print(question)\n",
    "        # 输出一段新的问题或检查请求，例如“你咳嗽有痰吗？持续了多久？”\n",
    "    \"\"\"\n",
    "    def __init__(self, backend=\"gpt4o\",max_conversation=10):\n",
    "        \"\"\"\n",
    "        Doctor doesn't need initial data in chinese clinical environment\n",
    "        :param max_conversation: the max conversation between patient and doctor\n",
    "        \"\"\"\n",
    "        self.num_conversation=0\n",
    "        self.max_conversation=max_conversation\n",
    "        self.backend = backend\n",
    "        self.conversation_history = \"\" #history of conversation\n",
    "    \n",
    "\n",
    "    def return_question(self, patient_answer)->str:\n",
    "        #可以考虑增加历史对话的压缩机制\n",
    "        \"\"\"\n",
    "        ask a question to the patient agent\n",
    "        \"\"\"\n",
    "        if self.num_conversation>self.max_conversation:\n",
    "            return \"diagnosis ended\"\n",
    "        \n",
    "        input_prompt =(\n",
    "            f\"在做出诊断前你最多只能提出 {self.max_conversation} 个问题，到目前为止，你已提出了{self.num_conversation}个问题\"\n",
    "            f\"\\n下面是你的对话历史:{self.conversation_history } \"\n",
    "            \"\\n 下面是病人本次的回复:{patient_answer} \"\n",
    "            \"\\n现在请继续你的对话\\nDoctor: \"\n",
    "        )\n",
    "        \n",
    "        question = asking_question(self.backend,input_prompt, self.system_prompt())\n",
    "        \n",
    "        self.conversation_history += patient_answer+ \"\\n\" + question + \"\\n\"  #继续对话\n",
    "        \n",
    "        self.num_conversation+=1\n",
    "        return question\n",
    "    def system_prompt(self) -> str:\n",
    "        #we can add more templates and put them into another file\n",
    "        core_prompt=\"\"\"你是一名专业的临床医生，正与一名病人进行对话。你可以通过提问来获取病人的病史、症状及其他关键信息，也可以向实验室（Laboratory）提出检查请求。实验室会根据你的请求返回对应的检查结果；若该检查结果正常且不关键，则返回“结果正常”。\n",
    "        你的目标是：\n",
    "        1. 通过与病人的有限次数对话（例如最多 10 次）收集足够的病情信息；\n",
    "        2. 必要时向实验室发起检查请求，严格遵循下面的格式: 开具检查:[检查名称];\n",
    "        3. 你也可以向助手申请身体检查，严格遵循下面的格式: 开具检查:[检查名称];\n",
    "        4. 在充分了解病情后，使用  诊断结果: [具体诊断内容]给出最终诊断。\n",
    "        \n",
    "        请注意以下要求：\n",
    "        - 你的每次对话应小于3句，并保持专业、简洁；\n",
    "        - 仅在需要时请求实验室检查；\n",
    "        - 如果病人问到与诊断无关或暂时无关的问题，可以简短地回避或重申重点；\n",
    "        - 一旦你认为信息已足够，请尽快完成诊断，避免过度询问；\n",
    "        请基于以上规则展开你的问诊流程，并根据病人的回答实时调整策略。\"\"\"\n",
    "\n",
    "        return core_prompt \n",
    "    \n",
    "    def reset(self) -> None:\n",
    "        self.conversation_history = \"\"\n",
    "        self.num_conversation=0\n",
    "\n",
    "#Now we can test the doctor agent"
   ],
   "metadata": {
    "collapsed": false
   },
   "id": "d0ee86e27e8cc321"
  }
 ],
 "metadata": {
  "kernelspec": {
   "display_name": "Python 3",
   "language": "python",
   "name": "python3"
  },
  "language_info": {
   "codemirror_mode": {
    "name": "ipython",
    "version": 2
   },
   "file_extension": ".py",
   "mimetype": "text/x-python",
   "name": "python",
   "nbconvert_exporter": "python",
   "pygments_lexer": "ipython2",
   "version": "2.7.6"
  }
 },
 "nbformat": 4,
 "nbformat_minor": 5
}

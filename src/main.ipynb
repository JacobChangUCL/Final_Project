{
 "cells": [
  {
   "cell_type": "code",
   "outputs": [],
   "source": [
    "#This file defines the patient agent, doctor agent and laboratory agent,then agents will interact with each other to simulate a medical diagnosis process.\n",
    "\n",
    "import openai  # OpenAI API is pretty expensive,try to find something to change it\n",
    "import time"
   ],
   "metadata": {
    "collapsed": false,
    "ExecuteTime": {
     "end_time": "2024-12-30T07:16:43.164667Z",
     "start_time": "2024-12-30T07:16:43.164667Z"
    }
   },
   "id": "7e93fb40b061c8f3",
   "execution_count": null
  },
  {
   "cell_type": "code",
   "outputs": [],
   "source": [
    "#delete it before submitting\n",
    "openai.api_key = \"\""
   ],
   "metadata": {
    "collapsed": false
   },
   "id": "6835decf9eea5111",
   "execution_count": null
  },
  {
   "cell_type": "code",
   "outputs": [],
   "source": [
    "#for judging if the data is valid\n",
    "import json\n",
    "\n",
    "file_path = \"MedQA_organized.jsonl\"\n",
    "\n",
    "with open(file_path, \"r\", encoding=\"utf-8\") as f:\n",
    "    for idx, line in enumerate(f, start=1):\n",
    "        line = line.strip()\n",
    "        if not line:\n",
    "            continue  # 跳过空行\n",
    "        try:\n",
    "            obj = json.loads(line)\n",
    "            print(f\"Line {idx} parsed successfully:\", obj)\n",
    "        except json.JSONDecodeError as e:\n",
    "            print(f\"Line {idx} JSONDecodeError: {e}\")"
   ],
   "metadata": {
    "collapsed": false
   },
   "id": "6616e40b78788f89",
   "execution_count": null
  },
  {
   "cell_type": "code",
   "outputs": [],
   "source": [
    "import json\n",
    "\n",
    "file_path = 'MedQA_organized.jsonl'\n",
    "data = []\n",
    "with open(file_path, 'r', encoding='utf-8') as f:\n",
    "    for line in f:\n",
    "        # 去掉换行符\n",
    "        line = line.strip()\n",
    "        # 如果这行内容不是空的，就解析成 Python 对\n",
    "        data.append(json.loads(line))\n",
    "        print(data)\n"
   ],
   "metadata": {
    "collapsed": false,
    "ExecuteTime": {
     "start_time": "2024-12-30T07:16:43.167736Z"
    }
   },
   "id": "e315729407aa1745",
   "execution_count": null
  },
  {
   "cell_type": "code",
   "outputs": [],
   "source": [
    "print(data[2])"
   ],
   "metadata": {
    "collapsed": false,
    "ExecuteTime": {
     "start_time": "2024-12-30T07:16:43.169317Z"
    }
   },
   "id": "374b83d511ea4620",
   "execution_count": null
  },
  {
   "cell_type": "code",
   "outputs": [],
   "source": [
    "class DataDistributor:\n",
    "    \"\"\"\n",
    "    Structure data from a json object.\n",
    "    \"\"\"\n",
    "    def __init__(self, json_object):\n",
    "        self.patient_information = json_object['Patient Information']\n",
    "        self.disease = json_object['Correct_Diagnosis']\n",
    "        self.physical_examination_findings=json_object['Physical_Examination_Findings']\n",
    "        self.test_result = json_object['Test_Results']\n",
    "    \n",
    "    def get_summary(self):\n",
    "        \"\"\"\n",
    "        Return a summary of the structured data.\n",
    "        \"\"\"\n",
    "        return {\n",
    "            \"Patient Information\": self.patient_information,\n",
    "            \"Correct Diagnosis\": self.disease,\n",
    "            \"Physical Examination Findings\": self.physical_examination_findings,\n",
    "            \"Test Results\": self.test_result,\n",
    "        }\n",
    "    "
   ],
   "metadata": {
    "collapsed": false,
    "ExecuteTime": {
     "end_time": "2024-12-30T07:16:44.164673Z",
     "start_time": "2024-12-30T07:16:44.154126Z"
    }
   },
   "id": "64f672c85ee6659a",
   "execution_count": 47
  },
  {
   "cell_type": "code",
   "outputs": [],
   "source": [
    "a=DataDistributor(data[2])\n"
   ],
   "metadata": {
    "collapsed": false,
    "ExecuteTime": {
     "end_time": "2024-12-30T07:16:44.861862Z",
     "start_time": "2024-12-30T07:16:44.850857Z"
    }
   },
   "id": "6deee911be7f69c8",
   "execution_count": 48
  },
  {
   "cell_type": "code",
   "outputs": [
    {
     "data": {
      "text/plain": "{'Gender and Age': '55-year-old man',\n 'Patient History': 'The patient has a 6-week history of tingling pain in the sole of his right foot when raised above chest level during exercises, started exercising 2 months ago, right calf cramps when using the incline feature on the treadmill which forces frequent breaks, pain disappears after a few minutes of rest, 8-year history of type 2 diabetes mellitus, smokes two packs of cigarettes daily for 34 years, only medication is metformin.',\n 'Chief Complaint': 'Tingling pain in the sole of the right foot when raised above chest level during exercises and right calf cramping on treadmill incline',\n 'Secondary Symptoms': 'Pain disappears after resting for a few minutes',\n 'Past_Medical_History': '8-year history of type 2 diabetes mellitus',\n 'Social_History': 'Smokes two packs of cigarettes daily for 34 years',\n 'Review_of_Systems': 'No back pain, normal muscle strength.'}"
     },
     "execution_count": 49,
     "metadata": {},
     "output_type": "execute_result"
    }
   ],
   "source": [
    "a.patient_information"
   ],
   "metadata": {
    "collapsed": false,
    "ExecuteTime": {
     "end_time": "2024-12-30T07:16:45.869727Z",
     "start_time": "2024-12-30T07:16:45.854252Z"
    }
   },
   "id": "5c1314013c412d86",
   "execution_count": 49
  },
  {
   "cell_type": "code",
   "outputs": [],
   "source": [
    "#逻辑：三个agent，病人、医生和实验室\n",
    "#实验室是个函数，接受医生的测试请求，返回测试结果。如果没有相关的测试则返回正常。\n",
    "\n",
    "\n",
    "class Laboratory:\n",
    "    \"\"\"\n",
    "    Return measurement results based on the doctor's request.\n",
    "    \"\"\"\n",
    "    prompt = \"你将扮演一个用于医学检查的实验室。\"\n",
    "   \n",
    "    def __init__(self, data_distributor):\n",
    "        self.Test_Results = data_distributor.test_result\n",
    "    def get_result(self, doctor_request):\n",
    "        \"\"\"\n",
    "        Return the result of the test.\n",
    "        \"\"\"\n",
    "        messages = [\n",
    "        {\"role\": \"system\", \"content\": Laboratory.prompt},\n",
    "        {\"role\": \"user\", \"content\": f\"医生请求检查:{doctor_request}\"+\n",
    "                         f\"这是检查结果的列表{self.Test_Results}\"+\n",
    "                         \"请直接回复对应的检查结果，不需要添加额外信息\"},\n",
    "            ]\n",
    "        response = openai.ChatCompletion.create(\n",
    "                model=\"gpt-4o\",\n",
    "                messages=messages,\n",
    "            )\n",
    "            \n",
    "        return response.choices[0].message['content']\n",
    "        "
   ],
   "metadata": {
    "collapsed": true,
    "ExecuteTime": {
     "end_time": "2024-12-30T07:16:48.530136Z",
     "start_time": "2024-12-30T07:16:48.514039Z"
    }
   },
   "id": "initial_id",
   "execution_count": 50
  },
  {
   "cell_type": "code",
   "outputs": [],
   "source": [
    "def asking_question(model_name,prompt,system_prompt,max_retries=2,time_out=10):\n",
    "    \"\"\"\n",
    "    ask the model and return the answer\n",
    "    \"\"\"\n",
    "    valid_model = [\"gpt4o\"]\n",
    "    if model_name not in valid_model:\n",
    "        raise Exception(f\"No model by the name {model_name},all the valid models are {valid_model}\")\n",
    "    \n",
    "    for _ in range(max_retries):\n",
    "        try:\n",
    "            if model_name == \"gpt4o\":\n",
    "                print(model_name)\n",
    "                response = openai.ChatCompletion.create(\n",
    "                    model=\"gpt-4o\",\n",
    "                    messages=[\n",
    "                        {\"role\": \"system\", \"content\": system_prompt},\n",
    "                        {\"role\": \"user\", \"content\": prompt},\n",
    "                    ],\n",
    "                )\n",
    "                return  response[\"choices\"][0][\"message\"][\"content\"]\n",
    "            \n",
    "            \n",
    "        except Exception as e:\n",
    "            print(e)\n",
    "            time.sleep(time_out)\n",
    "            continue"
   ],
   "metadata": {
    "collapsed": false,
    "ExecuteTime": {
     "end_time": "2024-12-30T07:25:22.544969Z",
     "start_time": "2024-12-30T07:25:22.536184Z"
    }
   },
   "id": "6b79be7cde322e0e",
   "execution_count": 72
  },
  {
   "cell_type": "code",
   "outputs": [],
   "source": [
    "class Patient:\n",
    "    \"\"\"\n",
    "    Return measurement results based on the doctor's request.\n",
    "    \"\"\"\n",
    "\n",
    "    \n",
    "    def __init__(self, data_distributor, backend=\"gpt4o\"):\n",
    "        self.info = data_distributor.patient_information\n",
    "        self.backend = backend\n",
    "        self.conversation_history = \"\" #history of conversation\n",
    "    \n",
    "    def return_question(self, doctor_question)->str:\n",
    "        #可以考虑增加历史对话的压缩机制\n",
    "        \"\"\"\n",
    "        Return the answer of doctor's question.\n",
    "        \"\"\"\n",
    "        input_prompt =  \"\\n下面是你的对话历史: \" + self.conversation_history + \"\\n 下面是医生的回复: \"+ doctor_question +\"\\n\"+ \"现在请继续你的对话\\nPatient: \"\n",
    "        answer = asking_question(self.backend,input_prompt, self.system_prompt())\n",
    "        self.conversation_history += doctor_question+ \"\\n\\n\" + answer + \"\\n\\n\"  #继续对话\n",
    "        return answer\n",
    "    \n",
    "    \n",
    "    def system_prompt(self) -> str:\n",
    "        #we can add more templates and put them into another file\n",
    "        core_prompt=\"\"\"You are role-playing as a patient in a clinic. A doctor is inspecting you to identify your disease by asking questions and performing examinations. Your task is to respond naturally and concisely to the doctor's questions.\n",
    "            Instructions:\n",
    "            1. Strictly answer the questions based on the \"Patient Information.\" If the answer to the doctor's question is found in the \"Patient Information,\" respond according to its content. If it is not found in the \"Patient Information,\" respond the doctor with normal information.\"\n",
    "            2. Only answer in dialogue form, as if you were speaking directly to the doctor.\n",
    "            2. Your responses should be brief, realistic, and limited below 4 sentences.\n",
    "            3. Provide information that a patient might reasonably say in this scenario.\n",
    "            4. Do not elaborate or provide excessive details unless explicitly asked.\"\"\"\n",
    "        \n",
    "        patient_info_prompt = f\"\\n\\nBelow is all of your information. {self.info}.\"\n",
    "        return core_prompt + patient_info_prompt\n",
    "    \n",
    "    def reset(self) -> None:\n",
    "        self.conversation_history = \"\"\n"
   ],
   "metadata": {
    "collapsed": false,
    "ExecuteTime": {
     "end_time": "2024-12-30T07:29:54.787080Z",
     "start_time": "2024-12-30T07:29:54.768432Z"
    }
   },
   "id": "ff13a302a928dad4",
   "execution_count": 87
  },
  {
   "cell_type": "code",
   "outputs": [],
   "source": [
    "#Now we can test the patient agent\n",
    "a.patient_information\n",
    "patient_agent = Patient(a)"
   ],
   "metadata": {
    "collapsed": false,
    "ExecuteTime": {
     "end_time": "2024-12-30T07:29:55.474347Z",
     "start_time": "2024-12-30T07:29:55.465128Z"
    }
   },
   "id": "bc1a9844b925f776",
   "execution_count": 88
  },
  {
   "cell_type": "code",
   "outputs": [
    {
     "name": "stdout",
     "output_type": "stream",
     "text": [
      "gpt4o\n"
     ]
    },
    {
     "data": {
      "text/plain": "'我已经有8年的2型糖尿病病史。'"
     },
     "execution_count": 91,
     "metadata": {},
     "output_type": "execute_result"
    }
   ],
   "source": [
    "patient_agent.return_question(\"你好，你过去有什么医疗记录吗\")"
   ],
   "metadata": {
    "collapsed": false,
    "ExecuteTime": {
     "end_time": "2024-12-30T07:30:43.645968Z",
     "start_time": "2024-12-30T07:30:42.118127Z"
    }
   },
   "id": "42728f38889487a4",
   "execution_count": 91
  },
  {
   "cell_type": "code",
   "outputs": [
    {
     "data": {
      "text/plain": "'你好，我是你的医生\\n\\n您好，医生。最近我在做运动时，只要把右脚抬到胸部以上，就会感到脚底刺痛。而且用跑步机的坡度功能时，右小腿会抽筋。休息几分钟后，这些疼痛就会消失。\\n\\n你好，你还有什么症状吗\\n\\n没有其他症状了。休息后疼痛会消失，没有背痛，肌肉力量也正常。\\n\\n你好，你过去有什么医疗记录吗\\n\\n我已经有8年的2型糖尿病病史。\\n\\n'"
     },
     "execution_count": 92,
     "metadata": {},
     "output_type": "execute_result"
    }
   ],
   "source": [
    "patient_agent.conversation_history"
   ],
   "metadata": {
    "collapsed": false,
    "ExecuteTime": {
     "end_time": "2024-12-30T07:39:37.004167Z",
     "start_time": "2024-12-30T07:39:36.990927Z"
    }
   },
   "id": "ff006a3ff74840e9",
   "execution_count": 92
  },
  {
   "cell_type": "code",
   "outputs": [],
   "source": [
    "#some features can be added: 1.choose the backbone LLM 2.choose the prompt template 3.maximum conversation turns\n",
    "#4. memory storage(maybe can be shared by the patient agent),could add summary mechanism to reduce the memory size\n",
    "\n",
    "class Doctor:\n",
    "    \"\"\"\n",
    "    Return measurement results based on the doctor's request.\n",
    "    \"\"\"\n",
    "    prompt = \"你将扮演一个医生。\"\n",
    "   \n",
    "    def __init__(self, data):\n",
    "        self.symptoms = data[\"symptoms\"]\n",
    "    def get_symptoms(self):\n",
    "        \"\"\"\n",
    "        Return the result of the test.\n",
    "        \"\"\"\n",
    "        messages = [\n",
    "        {\"role\": \"system\", \"content\": Doctor.prompt},\n",
    "        {\"role\": \"user\", \"content\": \"请描述你的症状\"},\n",
    "            ]\n",
    "        response = openai.ChatCompletion.create(\n",
    "                model=\"gpt-4o\",\n",
    "                messages=messages,\n",
    "            )\n",
    "            \n",
    "        return response.choices[0].message['content']"
   ],
   "metadata": {
    "collapsed": false
   },
   "id": "76020b3bd161832f"
  }
 ],
 "metadata": {
  "kernelspec": {
   "display_name": "Python 3",
   "language": "python",
   "name": "python3"
  },
  "language_info": {
   "codemirror_mode": {
    "name": "ipython",
    "version": 2
   },
   "file_extension": ".py",
   "mimetype": "text/x-python",
   "name": "python",
   "nbconvert_exporter": "python",
   "pygments_lexer": "ipython2",
   "version": "2.7.6"
  }
 },
 "nbformat": 4,
 "nbformat_minor": 5
}

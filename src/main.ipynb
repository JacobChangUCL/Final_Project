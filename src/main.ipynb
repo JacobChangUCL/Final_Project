{
 "cells": [
  {
   "cell_type": "code",
   "outputs": [],
   "source": [
    "#This file defines the patient agent, doctor agent and laboratory agent,then agents will interact with each other to simulate a medical diagnosis process.\n",
    "\n",
    "import openai  # OpenAI API is pretty expensive,try to find something to change it\n",
    "import time"
   ],
   "metadata": {
    "collapsed": false,
    "ExecuteTime": {
     "end_time": "2024-12-30T07:16:43.164667Z",
     "start_time": "2024-12-30T07:16:43.164667Z"
    }
   },
   "id": "7e93fb40b061c8f3",
   "execution_count": null
  },
  {
   "cell_type": "code",
   "outputs": [],
   "source": [
    "#delete it before submitting\n",
    "openai.api_key = \"\""
   ],
   "metadata": {
    "collapsed": false
   },
   "id": "6835decf9eea5111",
   "execution_count": null
  },
  {
   "cell_type": "code",
   "outputs": [],
   "source": [
    "#for judging if the data is valid\n",
    "import json\n",
    "\n",
    "file_path = \"MedQA_organized.jsonl\"\n",
    "\n",
    "with open(file_path, \"r\", encoding=\"utf-8\") as f:\n",
    "    for idx, line in enumerate(f, start=1):\n",
    "        line = line.strip()\n",
    "        if not line:\n",
    "            continue  # 跳过空行\n",
    "        try:\n",
    "            obj = json.loads(line)\n",
    "            print(f\"Line {idx} parsed successfully:\", obj)\n",
    "        except json.JSONDecodeError as e:\n",
    "            print(f\"Line {idx} JSONDecodeError: {e}\")"
   ],
   "metadata": {
    "collapsed": false
   },
   "id": "6616e40b78788f89",
   "execution_count": null
  },
  {
   "cell_type": "code",
   "outputs": [],
   "source": [
    "import json\n",
    "\n",
    "file_path = 'MedQA_organized.jsonl'\n",
    "data = []\n",
    "with open(file_path, 'r', encoding='utf-8') as f:\n",
    "    for line in f:\n",
    "        # 去掉换行符\n",
    "        line = line.strip()\n",
    "        # 如果这行内容不是空的，就解析成 Python 对\n",
    "        data.append(json.loads(line))\n",
    "        print(data)\n"
   ],
   "metadata": {
    "collapsed": false,
    "ExecuteTime": {
     "start_time": "2024-12-30T07:16:43.167736Z"
    }
   },
   "id": "e315729407aa1745",
   "execution_count": null
  },
  {
   "cell_type": "code",
   "outputs": [],
   "source": [
    "print(data[2])"
   ],
   "metadata": {
    "collapsed": false,
    "ExecuteTime": {
     "start_time": "2024-12-30T07:16:43.169317Z"
    }
   },
   "id": "374b83d511ea4620",
   "execution_count": null
  },
  {
   "cell_type": "code",
   "outputs": [],
   "source": [
    "class DataDistributor:\n",
    "    \"\"\"\n",
    "    Structure data from a json object.\n",
    "    \"\"\"\n",
    "    def __init__(self, json_object):\n",
    "        self.patient_information = json_object['Patient Information']\n",
    "        self.disease = json_object['Correct_Diagnosis']\n",
    "        self.physical_examination_findings=json_object['Physical_Examination_Findings']\n",
    "        self.test_result = json_object['Test_Results']\n",
    "    \n",
    "    def get_summary(self):\n",
    "        \"\"\"\n",
    "        Return a summary of the structured data.\n",
    "        \"\"\"\n",
    "        return {\n",
    "            \"Patient Information\": self.patient_information,\n",
    "            \"Correct Diagnosis\": self.disease,\n",
    "            \"Physical Examination Findings\": self.physical_examination_findings,\n",
    "            \"Test Results\": self.test_result,\n",
    "        }\n",
    "    "
   ],
   "metadata": {
    "collapsed": false,
    "ExecuteTime": {
     "end_time": "2024-12-30T07:16:44.164673Z",
     "start_time": "2024-12-30T07:16:44.154126Z"
    }
   },
   "id": "64f672c85ee6659a",
   "execution_count": 47
  },
  {
   "cell_type": "code",
   "outputs": [],
   "source": [
    "a=DataDistributor(data[2])\n"
   ],
   "metadata": {
    "collapsed": false,
    "ExecuteTime": {
     "end_time": "2024-12-30T08:47:28.825868Z",
     "start_time": "2024-12-30T08:46:46.720764Z"
    }
   },
   "id": "6deee911be7f69c8",
   "execution_count": 99
  },
  {
   "cell_type": "code",
   "outputs": [
    {
     "ename": "AttributeError",
     "evalue": "'DataDistributor' object has no attribute 'patient_informationLabor'",
     "output_type": "error",
     "traceback": [
      "\u001B[1;31m---------------------------------------------------------------------------\u001B[0m",
      "\u001B[1;31mAttributeError\u001B[0m                            Traceback (most recent call last)",
      "Cell \u001B[1;32mIn[98], line 1\u001B[0m\n\u001B[1;32m----> 1\u001B[0m \u001B[43ma\u001B[49m\u001B[38;5;241;43m.\u001B[39;49m\u001B[43mpatient_informationLabor\u001B[49m\n",
      "\u001B[1;31mAttributeError\u001B[0m: 'DataDistributor' object has no attribute 'patient_informationLabor'"
     ]
    }
   ],
   "source": [
    "a.patient_informationLabor"
   ],
   "metadata": {
    "collapsed": false,
    "ExecuteTime": {
     "end_time": "2024-12-30T08:46:14.538515Z",
     "start_time": "2024-12-30T08:46:07.203520Z"
    }
   },
   "id": "5c1314013c412d86",
   "execution_count": 98
  },
  {
   "cell_type": "markdown",
   "source": [],
   "metadata": {
    "collapsed": false
   },
   "id": "cff115facbdeb0dc"
  },
  {
   "cell_type": "code",
   "outputs": [],
   "source": [
    "#逻辑：三个agent，病人、医生和实验室\n",
    "#实验室是个函数，接受医生的测试请求，返回测试结果。如果没有相关的测试则返回正常。\n",
    "\n",
    "\n",
    "class Laboratory:\n",
    "    \"\"\"\n",
    "    Return measurement results based on the doctor's request.\n",
    "    \"\"\"\n",
    "    prompt = \"你将扮演一个用于医学检查的实验室。\"\n",
    "   \n",
    "    def __init__(self, data_distributor):\n",
    "        self.Test_Results = data_distributor.test_result\n",
    "    def get_result(self, doctor_request):\n",
    "        \"\"\"\n",
    "        Return the result of the test.\n",
    "        \"\"\"\n",
    "        messages = [\n",
    "        {\"role\": \"system\", \"content\": Laboratory.prompt},\n",
    "        {\"role\": \"user\", \"content\": f\"医生请求检查:{doctor_request}\"+\n",
    "                         f\"这是检查结果的列表{self.Test_Results}\"+\n",
    "                         \"请直接回复对应的检查结果，不需要添加额外信息\"},\n",
    "            ]\n",
    "        response = openai.ChatCompletion.create(\n",
    "                model=\"gpt-4o\",\n",
    "                messages=messages,\n",
    "            )\n",
    "            \n",
    "        return response.choices[0].message['content']\n",
    "        "
   ],
   "metadata": {
    "collapsed": true,
    "ExecuteTime": {
     "end_time": "2024-12-30T08:24:54.316499Z",
     "start_time": "2024-12-30T08:24:54.295228Z"
    }
   },
   "id": "initial_id",
   "execution_count": 95
  },
  {
   "cell_type": "code",
   "outputs": [],
   "source": [
    "def asking_question(model_name,prompt,system_prompt,max_retries=2,time_out=20):\n",
    "    \"\"\"\n",
    "    ask the model and return the answer\n",
    "    \"\"\"\n",
    "    valid_model = [\"gpt4o\"]\n",
    "    if model_name not in valid_model:\n",
    "        raise Exception(f\"No model by the name {model_name},all the valid models are {valid_model}\")\n",
    "    \n",
    "    for _ in range(max_retries):\n",
    "        try:\n",
    "            if model_name == \"gpt4o\":\n",
    "                response = openai.ChatCompletion.create(\n",
    "                    model=\"gpt-4o\",\n",
    "                    messages=[\n",
    "                        {\"role\": \"system\", \"content\": system_prompt},\n",
    "                        {\"role\": \"user\", \"content\": prompt},\n",
    "                    ],\n",
    "                )\n",
    "                return  response[\"choices\"][0][\"message\"][\"content\"]\n",
    "            \n",
    "            \n",
    "        except Exception as e:\n",
    "            print(e)\n",
    "            time.sleep(time_out)\n",
    "            continue"
   ],
   "metadata": {
    "collapsed": false,
    "ExecuteTime": {
     "end_time": "2025-01-04T15:35:05.172131Z",
     "start_time": "2025-01-04T15:35:05.156732Z"
    }
   },
   "id": "6b79be7cde322e0e",
   "execution_count": 137
  },
  {
   "cell_type": "code",
   "outputs": [
    {
     "name": "stdout",
     "output_type": "stream",
     "text": [
      "gpt4o\n"
     ]
    }
   ],
   "source": [
    "class Patient:\n",
    "    \"\"\"\n",
    "    Return measurement results based on the doctor's request.\n",
    "    \"\"\"\n",
    "\n",
    "    \n",
    "    def __init__(self, data_distributor, backend=\"gpt4o\"):\n",
    "        self.info = data_distributor.patient_information\n",
    "        self.backend = backend\n",
    "        self.conversation_history = \"\" #history of conversation\n",
    "    \n",
    "    def return_question(self, doctor_question)->str:\n",
    "        #可以考虑增加历史对话的压缩机制\n",
    "        \"\"\"\n",
    "        Return the answer of doctor's question.\n",
    "        \"\"\"\n",
    "        input_prompt =  \"\\n下面是你的对话历史: \" + self.conversation_history + \"\\n 下面是医生的回复: \"+ doctor_question +\"\\n\"+ \"现在请继续你的对话\\nPatient: \"\n",
    "        answer = asking_question(self.backend,input_prompt, self.system_prompt())\n",
    "        self.conversation_history += doctor_question+ \"\\n\\n\" + answer + \"\\n\\n\"  #继续对话\n",
    "        return answer\n",
    "    \n",
    "    \n",
    "    def system_prompt(self) -> str:\n",
    "        #we can add more templates and put them into another file\n",
    "        core_prompt=\"\"\"You are role-playing as a patient in a clinic. A doctor is inspecting you to identify your disease by asking questions and performing examinations. Your task is to respond naturally and concisely to the doctor's questions.\n",
    "            Instructions:\n",
    "            1. Strictly answer the questions based on the \"Patient Information.\" If the answer to the doctor's question is found in the \"Patient Information,\" respond according to its content. If it is not found in the \"Patient Information,\" respond the doctor with normal information.\"\n",
    "            2. Only answer in dialogue form, as if you were speaking directly to the doctor.\n",
    "            2. Your responses should be brief, realistic, and limited below 4 sentences.\n",
    "            3. Provide information that a patient might reasonably say in this scenario.\n",
    "            4. Do not elaborate or provide excessive details unless explicitly asked.\"\"\"\n",
    "        \n",
    "        patient_info_prompt = f\"\\n\\nBelow is all of your information. {self.info}.\"\n",
    "        return core_prompt + patient_info_prompt\n",
    "    \n",
    "    def reset(self) -> None:\n",
    "        self.conversation_history = \"\"\n",
    "\n",
    "#Now we can test the patient agent\n",
    "a.patient_information\n",
    "patient_agent = Patient(a)\n",
    "patient_agent.return_question(\"你好，你过去有什么医疗记录吗\")"
   ],
   "metadata": {
    "collapsed": false,
    "is_executing": true,
    "ExecuteTime": {
     "start_time": "2024-12-30T10:45:37.666854Z"
    }
   },
   "id": "ff13a302a928dad4",
   "execution_count": null
  },
  {
   "cell_type": "code",
   "outputs": [],
   "source": [
    "def evaluate(true_diagnosis, doctor_agent_diagnosis, model=\"gpt4o\"):\n",
    "    \"\"\"\n",
    "    Evaluate whether the diagnosis from the doctor agent matches the true diagnosis.\n",
    "    \n",
    "    Args:\n",
    "        true_diagnosis (str): The correct diagnosis.\n",
    "        doctor_agent_diagnosis (str): The diagnosis provided by the doctor agent.\n",
    "        model (str): The name of the model to be used for evaluation. Default is \"gpt4o\".\n",
    "    \n",
    "    Returns:\n",
    "        str: \"yes\" if the diagnoses match, \"no\" otherwise.\n",
    "    \"\"\"\n",
    "    system_prompt = (\n",
    "        \"You are a professional evaluator for medical diagnostics. \"\n",
    "        \"Your task is to compare a correct medical diagnosis with a doctor's diagnosis. \"\n",
    "        \"Determine if they represent the same disease. \"\n",
    "        \"Your response must strictly be either 'Yes' or 'No'—nothing else. \"\n",
    "        \"Maintain objectivity and base your judgment solely on the provided information.\"\n",
    "    )\n",
    "    \n",
    "    user_prompt = (\n",
    "        f\"Here is the correct diagnosis: {true_diagnosis}\\n\"\n",
    "        f\"Here was the doctor's diagnosis: {doctor_agent_diagnosis}\\n\"\n",
    "        \"Are these the same disease? Please respond only with 'Yes' or 'No'.\"\n",
    "    )\n",
    "    answer=asking_question(model_name=model,prompt=user_prompt,system_prompt=system_prompt)\n",
    "    return answer"
   ],
   "metadata": {
    "collapsed": false,
    "ExecuteTime": {
     "end_time": "2025-01-04T17:56:25.122904Z",
     "start_time": "2025-01-04T17:56:25.097327Z"
    }
   },
   "id": "9e2c70c777c2f36e",
   "execution_count": 141
  },
  {
   "cell_type": "code",
   "outputs": [
    {
     "name": "stdout",
     "output_type": "stream",
     "text": [
      "Yes\n",
      "No\n"
     ]
    }
   ],
   "source": [
    "TEST=True\n",
    "#test\n",
    "if TEST:\n",
    "    print(evaluate(\"感冒\",\"你可能有感冒\"))\n",
    "    print(evaluate(\"感冒\",\"你可能有疟疾\"))"
   ],
   "metadata": {
    "collapsed": false,
    "ExecuteTime": {
     "end_time": "2025-01-04T17:59:10.047762Z",
     "start_time": "2025-01-04T17:59:09.107088Z"
    }
   },
   "id": "397a1d819b98d7fd",
   "execution_count": 145
  },
  {
   "cell_type": "code",
   "outputs": [],
   "source": [
    "#Now we can test the patient agent\n",
    "a.patient_information\n",
    "patient_agent = Patient(a)"
   ],
   "metadata": {
    "collapsed": false,
    "ExecuteTime": {
     "end_time": "2024-12-30T08:51:39.727979Z",
     "start_time": "2024-12-30T08:51:23.034024Z"
    }
   },
   "id": "bc1a9844b925f776",
   "execution_count": 101
  },
  {
   "cell_type": "code",
   "outputs": [
    {
     "name": "stdout",
     "output_type": "stream",
     "text": [
      "gpt4o\n"
     ]
    },
    {
     "data": {
      "text/plain": "'我已经有8年的2型糖尿病病史。'"
     },
     "execution_count": 91,
     "metadata": {},
     "output_type": "execute_result"
    }
   ],
   "source": [
    "patient_agent.return_question(\"你好，你过去有什么医疗记录吗\")"
   ],
   "metadata": {
    "collapsed": false,
    "ExecuteTime": {
     "end_time": "2024-12-30T07:30:43.645968Z",
     "start_time": "2024-12-30T07:30:42.118127Z"
    }
   },
   "id": "42728f38889487a4",
   "execution_count": 91
  },
  {
   "cell_type": "code",
   "outputs": [
    {
     "data": {
      "text/plain": "'你好，我是你的医生\\n\\n您好，医生。最近我在做运动时，只要把右脚抬到胸部以上，就会感到脚底刺痛。而且用跑步机的坡度功能时，右小腿会抽筋。休息几分钟后，这些疼痛就会消失。\\n\\n你好，你还有什么症状吗\\n\\n没有其他症状了。休息后疼痛会消失，没有背痛，肌肉力量也正常。\\n\\n你好，你过去有什么医疗记录吗\\n\\n我已经有8年的2型糖尿病病史。\\n\\n'"
     },
     "execution_count": 92,
     "metadata": {},
     "output_type": "execute_result"
    }
   ],
   "source": [
    "patient_agent.conversation_history"
   ],
   "metadata": {
    "collapsed": false,
    "ExecuteTime": {
     "end_time": "2024-12-30T07:39:37.004167Z",
     "start_time": "2024-12-30T07:39:36.990927Z"
    }
   },
   "id": "ff006a3ff74840e9",
   "execution_count": 92
  },
  {
   "cell_type": "code",
   "outputs": [],
   "source": [
    "#some features can be added: 1.choose the backbone LLM 2.choose the prompt template 3.maximum conversation turns\n",
    "#4. memory storage(maybe can be shared by the patient agent),could add summary mechanism to reduce the memory size\n",
    "#jupyter notebook的问题：1.断点在最左边 2.所有待调试代码必须放在同一单元格里，否则跳转时会出错。 3.单步调试我的代码按钮不要碰。"
   ],
   "metadata": {
    "collapsed": false
   },
   "id": "76020b3bd161832f"
  },
  {
   "cell_type": "code",
   "outputs": [],
   "source": [
    "class Doctor:\n",
    "    \"\"\"\n",
    "    Doctor类用于模拟医生与病人之间的对话、提问和诊断流程。其功能包括：\n",
    "    1. 根据病人回复（patient_answer）生成后续问题或检查请求；\n",
    "    2. 记录并管理对话历史；(self.conversation_history)\n",
    "    3. 在达到设定的最大提问次数后，结束对话并进行诊断。\n",
    "\n",
    "    Attributes:\n",
    "        num_conversation (int): 已向病人提出的问题数量。\n",
    "        max_conversation (int): 医生可提出的最大问题数量，在此之后需结束对话。\n",
    "        backend (str): 用于生成对话问题的语言模型名称(default:GPT4o)。\n",
    "        conversation_history (str): 医患对话的历史记录。\n",
    "\n",
    "    Methods:\n",
    "        __init__(backend=\"gpt4o\", max_converstion=20):\n",
    "            初始化Doctor实例，并设置对话后端与最大提问次数。\n",
    "\n",
    "        return_question(patient_answer: str) -> str:\n",
    "            根据病人的回答生成新的提问或检查请求，若已超出最大提问次数则返回“diagnosis ended”。\n",
    "\n",
    "        system_prompt() -> str:\n",
    "            生成对患者端的系统提示语，用于指导患者如何回答医生的问题。\n",
    "\n",
    "        reset() -> None:\n",
    "            重置对话记录和问题计数器，以便进行新的诊断会话。\n",
    "\n",
    "    Usage Example:\n",
    "        >>> # 创建一个Doctor对象\n",
    "        >>> doctor = Doctor(backend=\"gpt4o\", max_conversation=5)\n",
    "        >>> # 医生向病人提问\n",
    "        >>> question = doctor.return_question(\"我最近胸口有点闷，偶尔伴随咳嗽。\")\n",
    "        >>> print(question)\n",
    "        # 输出一段新的问题或检查请求，例如“你咳嗽有痰吗？持续了多久？”\n",
    "    \"\"\"\n",
    "    def __init__(self, backend=\"gpt4o\",max_conversation=10):\n",
    "        \"\"\"\n",
    "        Doctor doesn't need initial data in chinese clinical environment\n",
    "        :param max_conversation: the max conversation between patient and doctor\n",
    "        \"\"\"\n",
    "        self.num_conversation=0\n",
    "        self.max_conversation=max_conversation\n",
    "        self.backend = backend\n",
    "        self.conversation_history = \"\" #history of conversation\n",
    "    \n",
    "\n",
    "    def return_question(self, patient_answer)->str:\n",
    "        #可以考虑增加历史对话的压缩机制\n",
    "        \"\"\"\n",
    "        ask a question to the patient agent\n",
    "        Jan 4th change: In the final dialogue loop, reinforce the prompt: \"You must make a diagnosis.\n",
    "        \n",
    "        \"\"\"\n",
    "        if self.num_conversation>self.max_conversation:\n",
    "            return \"diagnosis ended\"\n",
    "        \n",
    "        if self.num_conversation==self.max_conversation:\n",
    "            input_prompt =(\n",
    "                f\"你已经提问完了所有的问题，现在你必须输出诊断结果\"\n",
    "                f\"\\n下面是你的对话历史:{self.conversation_history } \"\n",
    "                \"\\n 下面是病人本次的回复:{patient_answer} \"\n",
    "                \"\\n现在请以 诊断结果: [具体诊断内容]的格式给出最终诊断\"\n",
    "            )\n",
    "        else:   \n",
    "            input_prompt =(\n",
    "                f\"在做出诊断前你最多只能提出 {self.max_conversation} 个问题，到目前为止，你已提出了{self.num_conversation}个问题\"\n",
    "                f\"\\n下面是你的对话历史:{self.conversation_history } \"\n",
    "                \"\\n 下面是病人本次的回复:{patient_answer} \"\n",
    "                \"\\n现在请继续你的对话\\nDoctor: \"\n",
    "            )\n",
    "        \n",
    "        question = asking_question(self.backend,input_prompt, self.system_prompt())\n",
    "        \n",
    "        self.conversation_history += \"Patient:\"+patient_answer+ \"\\n\" + \"Doctor:\"+question + \"\\n\"  #继续对话\n",
    "        \n",
    "        self.num_conversation+=1\n",
    "        return question\n",
    "    def system_prompt(self) -> str:\n",
    "        #we can add more templates and put them into another file\n",
    "        core_prompt=\"\"\"你是一名专业的临床医生，正与一名病人进行对话。你可以通过提问来获取病人的病史、症状及其他关键信息，也可以向实验室（Laboratory）提出检查请求。实验室会根据你的请求返回对应的检查结果；若该检查结果正常且不关键，则返回“结果正常”。\n",
    "        你的目标是：\n",
    "        1. 通过与病人的有限次数对话（例如最多 10 次）收集足够的病情信息；\n",
    "        2. 必要时向实验室发起检查请求，严格遵循下面的格式: 开具检查:[检查名称];\n",
    "        3. 你也可以向助手申请身体检查，严格遵循下面的格式: 开具检查:[检查名称];\n",
    "        4. 在充分了解病情后，使用 诊断结果: [具体诊断内容]给出最终诊断。\n",
    "        5. 在尽可能搜集必要信息的前提下，尽可能降低总提问次数\n",
    "        \n",
    "        请注意以下要求：\n",
    "        - 避免重复已提问的问题,如果你认为无需提出新的问题，则尽快完成诊断\n",
    "        - 你的每次对话应小于3句，并保持专业、简洁；\n",
    "        - 仅在需要时请求实验室检查；\n",
    "        - 如果病人问到与诊断无关或暂时无关的问题，可以简短地回避或重申重点；\n",
    "        - 一旦你认为信息已足够，请尽快完成诊断，避免过度询问；\n",
    "        请基于以上规则展开你的问诊流程，并根据病人的回答实时调整策略。\"\"\"\n",
    "\n",
    "        return core_prompt \n",
    "    \n",
    "    def reset(self) -> None:\n",
    "        self.conversation_history = \"\"\n",
    "        self.num_conversation=0\n",
    "\n",
    "#Now we can test the doctor agent"
   ],
   "metadata": {
    "collapsed": false,
    "ExecuteTime": {
     "end_time": "2025-01-04T15:42:08.392485Z",
     "start_time": "2025-01-04T15:42:08.372590Z"
    }
   },
   "id": "d0ee86e27e8cc321",
   "execution_count": 139
  },
  {
   "cell_type": "code",
   "outputs": [],
   "source": [
    "from tqdm.notebook import tqdm\n",
    "import time"
   ],
   "metadata": {
    "collapsed": false,
    "ExecuteTime": {
     "end_time": "2025-01-04T15:13:47.844003Z",
     "start_time": "2025-01-04T15:13:47.831033Z"
    }
   },
   "id": "1956f2f3cc25de50",
   "execution_count": 131
  },
  {
   "cell_type": "code",
   "outputs": [],
   "source": [
    "#perfect，but there are some bug in the conversation。1.the doctor may ask similar question\n",
    "#2.the doctor would like to reach the conversation limit even it is not necessary"
   ],
   "metadata": {
    "collapsed": false
   },
   "id": "caa1bf0b6edf9dd0"
  },
  {
   "cell_type": "code",
   "outputs": [
    {
     "data": {
      "text/plain": "  0%|          | 0/6 [00:00<?, ?it/s]",
      "application/vnd.jupyter.widget-view+json": {
       "version_major": 2,
       "version_minor": 0,
       "model_id": "fa766a947f1b426eaa7e1f562e9685ab"
      }
     },
     "metadata": {},
     "output_type": "display_data"
    },
    {
     "name": "stdout",
     "output_type": "stream",
     "text": [
      "Round 1\n",
      "Patient:My right knee has been swelling and it's quite painful. I also experience some back pain. Walking has become difficult, and it's been quite frustrating.\n",
      "Doctor:请问您主要哪里不舒服？什么时候开始出现症状的？\n",
      "Round 2\n",
      "Patient:主要是右膝盖的问题，它肿了而且很痛。这种症状大概在最近一段时间才开始加重的。\n",
      "Doctor:{patient_answer}的信息我没有收到，不知是否有误。「能否告知出现疼痛和肿胀持续了多久？」或者「是否有受伤或过度使用过膝盖的情况？」\n",
      "Round 3\n",
      "Patient:疼痛和肿胀已经持续了一段时间，但最近加重了。没有特别的受伤，我想这可能和我以前的关节炎有关。\n",
      "Doctor:\"请您确认疼痛和肿胀持续了多久？另外，您是否曾受伤或过度使用过膝盖，例如长时间走路、跑步或搬重物？\"\n",
      "Round 4\n",
      "Patient:疼痛和肿胀大概有几个星期了。没有受过伤，也没有什么过度使用的情况，不过走路确实有点难受。\n",
      "Doctor:谢谢您的回答。了解您已经有过关节炎的病史有助于我们诊断。您能否告诉我，最近是否有其他的症状，比如发热、疲劳或者其他关节也出现过类似的症状？\n",
      "Round 5\n",
      "Patient:没有发热或疲劳的症状。其他的关节目前没有类似的症状，主要就是右膝盖的问题。\n",
      "Doctor:{patient_answer}的信息我没有收到，不知是否有误。「是否有出现发热、疲劳或者其他关节类似症状？」\n",
      "\n",
      "您也可以告知我是否有其他相关的病史。您的信息将帮助我作出准确诊断。\n",
      "Round 6\n",
      "Patient:我之前被诊断出关节炎，有16年的病史，除了关节炎外没有其他相关的病史。\n",
      "Doctor:诊断结果: 右膝关节滑膜炎可能性较高，考虑为关节炎的急性发作。建议进一步影像学检查以明确诊断并适当药物控制症状。\n",
      "True disease is Psoriatic arthritis,doctor diagnosis is 诊断结果: 右膝关节滑膜炎可能性较高，考虑为关节炎的急性发作。建议进一步影像学检查以明确诊断并适当药物控制症状。\n",
      "Accuracy=0.00%,total 1cases,0 are right\n"
     ]
    },
    {
     "data": {
      "text/plain": "  0%|          | 0/6 [00:00<?, ?it/s]",
      "application/vnd.jupyter.widget-view+json": {
       "version_major": 2,
       "version_minor": 0,
       "model_id": "5d5f4c622b7f4c0a810147deb1e97155"
      }
     },
     "metadata": {},
     "output_type": "display_data"
    },
    {
     "name": "stdout",
     "output_type": "stream",
     "text": [
      "Round 1\n",
      "Patient:I've been really concerned about my physical appearance lately, especially dealing with acne and unwanted facial hair.\n",
      "Doctor:请问您有哪些不适症状？持续了多久？\n",
      "Round 2\n",
      "Patient:这些问题从青春期就开始困扰我了。我也注意到我的月经周期不规律，大约每45天一次。\n"
     ]
    },
    {
     "ename": "KeyboardInterrupt",
     "evalue": "",
     "output_type": "error",
     "traceback": [
      "\u001B[1;31m---------------------------------------------------------------------------\u001B[0m",
      "\u001B[1;31mKeyboardInterrupt\u001B[0m                         Traceback (most recent call last)",
      "Cell \u001B[1;32mIn[151], line 22\u001B[0m\n\u001B[0;32m     20\u001B[0m     patient_answer\u001B[38;5;241m=\u001B[39mpatient_agent\u001B[38;5;241m.\u001B[39mreturn_question(doctor_question) \u001B[38;5;66;03m#doctor ask question\u001B[39;00m\n\u001B[0;32m     21\u001B[0m     \u001B[38;5;28mprint\u001B[39m(\u001B[38;5;124m\"\u001B[39m\u001B[38;5;124mPatient:\u001B[39m\u001B[38;5;124m\"\u001B[39m\u001B[38;5;241m+\u001B[39mpatient_answer)\n\u001B[1;32m---> 22\u001B[0m     doctor_question\u001B[38;5;241m=\u001B[39m\u001B[43mdoctor\u001B[49m\u001B[38;5;241;43m.\u001B[39;49m\u001B[43mreturn_question\u001B[49m\u001B[43m(\u001B[49m\u001B[43mpatient_answer\u001B[49m\u001B[43m)\u001B[49m \u001B[38;5;66;03m#patient return answer\u001B[39;00m\n\u001B[0;32m     23\u001B[0m     \u001B[38;5;28mprint\u001B[39m(\u001B[38;5;124m\"\u001B[39m\u001B[38;5;124mDoctor:\u001B[39m\u001B[38;5;124m\"\u001B[39m\u001B[38;5;241m+\u001B[39mdoctor_question)\n\u001B[0;32m     24\u001B[0m \u001B[38;5;66;03m# check if the doctor diagnosis is right\u001B[39;00m\n",
      "Cell \u001B[1;32mIn[139], line 71\u001B[0m, in \u001B[0;36mDoctor.return_question\u001B[1;34m(self, patient_answer)\u001B[0m\n\u001B[0;32m     63\u001B[0m \u001B[38;5;28;01melse\u001B[39;00m:   \n\u001B[0;32m     64\u001B[0m     input_prompt \u001B[38;5;241m=\u001B[39m(\n\u001B[0;32m     65\u001B[0m         \u001B[38;5;124mf\u001B[39m\u001B[38;5;124m\"\u001B[39m\u001B[38;5;124m在做出诊断前你最多只能提出 \u001B[39m\u001B[38;5;132;01m{\u001B[39;00m\u001B[38;5;28mself\u001B[39m\u001B[38;5;241m.\u001B[39mmax_conversation\u001B[38;5;132;01m}\u001B[39;00m\u001B[38;5;124m 个问题，到目前为止，你已提出了\u001B[39m\u001B[38;5;132;01m{\u001B[39;00m\u001B[38;5;28mself\u001B[39m\u001B[38;5;241m.\u001B[39mnum_conversation\u001B[38;5;132;01m}\u001B[39;00m\u001B[38;5;124m个问题\u001B[39m\u001B[38;5;124m\"\u001B[39m\n\u001B[0;32m     66\u001B[0m         \u001B[38;5;124mf\u001B[39m\u001B[38;5;124m\"\u001B[39m\u001B[38;5;130;01m\\n\u001B[39;00m\u001B[38;5;124m下面是你的对话历史:\u001B[39m\u001B[38;5;132;01m{\u001B[39;00m\u001B[38;5;28mself\u001B[39m\u001B[38;5;241m.\u001B[39mconversation_history\u001B[38;5;250m \u001B[39m\u001B[38;5;132;01m}\u001B[39;00m\u001B[38;5;124m \u001B[39m\u001B[38;5;124m\"\u001B[39m\n\u001B[0;32m     67\u001B[0m         \u001B[38;5;124m\"\u001B[39m\u001B[38;5;130;01m\\n\u001B[39;00m\u001B[38;5;124m 下面是病人本次的回复:\u001B[39m\u001B[38;5;132;01m{patient_answer}\u001B[39;00m\u001B[38;5;124m \u001B[39m\u001B[38;5;124m\"\u001B[39m\n\u001B[0;32m     68\u001B[0m         \u001B[38;5;124m\"\u001B[39m\u001B[38;5;130;01m\\n\u001B[39;00m\u001B[38;5;124m现在请继续你的对话\u001B[39m\u001B[38;5;130;01m\\n\u001B[39;00m\u001B[38;5;124mDoctor: \u001B[39m\u001B[38;5;124m\"\u001B[39m\n\u001B[0;32m     69\u001B[0m     )\n\u001B[1;32m---> 71\u001B[0m question \u001B[38;5;241m=\u001B[39m \u001B[43masking_question\u001B[49m\u001B[43m(\u001B[49m\u001B[38;5;28;43mself\u001B[39;49m\u001B[38;5;241;43m.\u001B[39;49m\u001B[43mbackend\u001B[49m\u001B[43m,\u001B[49m\u001B[43minput_prompt\u001B[49m\u001B[43m,\u001B[49m\u001B[43m \u001B[49m\u001B[38;5;28;43mself\u001B[39;49m\u001B[38;5;241;43m.\u001B[39;49m\u001B[43msystem_prompt\u001B[49m\u001B[43m(\u001B[49m\u001B[43m)\u001B[49m\u001B[43m)\u001B[49m\n\u001B[0;32m     73\u001B[0m \u001B[38;5;28mself\u001B[39m\u001B[38;5;241m.\u001B[39mconversation_history \u001B[38;5;241m+\u001B[39m\u001B[38;5;241m=\u001B[39m \u001B[38;5;124m\"\u001B[39m\u001B[38;5;124mPatient:\u001B[39m\u001B[38;5;124m\"\u001B[39m\u001B[38;5;241m+\u001B[39mpatient_answer\u001B[38;5;241m+\u001B[39m \u001B[38;5;124m\"\u001B[39m\u001B[38;5;130;01m\\n\u001B[39;00m\u001B[38;5;124m\"\u001B[39m \u001B[38;5;241m+\u001B[39m \u001B[38;5;124m\"\u001B[39m\u001B[38;5;124mDoctor:\u001B[39m\u001B[38;5;124m\"\u001B[39m\u001B[38;5;241m+\u001B[39mquestion \u001B[38;5;241m+\u001B[39m \u001B[38;5;124m\"\u001B[39m\u001B[38;5;130;01m\\n\u001B[39;00m\u001B[38;5;124m\"\u001B[39m  \u001B[38;5;66;03m#继续对话\u001B[39;00m\n\u001B[0;32m     75\u001B[0m \u001B[38;5;28mself\u001B[39m\u001B[38;5;241m.\u001B[39mnum_conversation\u001B[38;5;241m+\u001B[39m\u001B[38;5;241m=\u001B[39m\u001B[38;5;241m1\u001B[39m\n",
      "Cell \u001B[1;32mIn[137], line 12\u001B[0m, in \u001B[0;36masking_question\u001B[1;34m(model_name, prompt, system_prompt, max_retries, time_out)\u001B[0m\n\u001B[0;32m     10\u001B[0m \u001B[38;5;28;01mtry\u001B[39;00m:\n\u001B[0;32m     11\u001B[0m     \u001B[38;5;28;01mif\u001B[39;00m model_name \u001B[38;5;241m==\u001B[39m \u001B[38;5;124m\"\u001B[39m\u001B[38;5;124mgpt4o\u001B[39m\u001B[38;5;124m\"\u001B[39m:\n\u001B[1;32m---> 12\u001B[0m         response \u001B[38;5;241m=\u001B[39m \u001B[43mopenai\u001B[49m\u001B[38;5;241;43m.\u001B[39;49m\u001B[43mChatCompletion\u001B[49m\u001B[38;5;241;43m.\u001B[39;49m\u001B[43mcreate\u001B[49m\u001B[43m(\u001B[49m\n\u001B[0;32m     13\u001B[0m \u001B[43m            \u001B[49m\u001B[43mmodel\u001B[49m\u001B[38;5;241;43m=\u001B[39;49m\u001B[38;5;124;43m\"\u001B[39;49m\u001B[38;5;124;43mgpt-4o\u001B[39;49m\u001B[38;5;124;43m\"\u001B[39;49m\u001B[43m,\u001B[49m\n\u001B[0;32m     14\u001B[0m \u001B[43m            \u001B[49m\u001B[43mmessages\u001B[49m\u001B[38;5;241;43m=\u001B[39;49m\u001B[43m[\u001B[49m\n\u001B[0;32m     15\u001B[0m \u001B[43m                \u001B[49m\u001B[43m{\u001B[49m\u001B[38;5;124;43m\"\u001B[39;49m\u001B[38;5;124;43mrole\u001B[39;49m\u001B[38;5;124;43m\"\u001B[39;49m\u001B[43m:\u001B[49m\u001B[43m \u001B[49m\u001B[38;5;124;43m\"\u001B[39;49m\u001B[38;5;124;43msystem\u001B[39;49m\u001B[38;5;124;43m\"\u001B[39;49m\u001B[43m,\u001B[49m\u001B[43m \u001B[49m\u001B[38;5;124;43m\"\u001B[39;49m\u001B[38;5;124;43mcontent\u001B[39;49m\u001B[38;5;124;43m\"\u001B[39;49m\u001B[43m:\u001B[49m\u001B[43m \u001B[49m\u001B[43msystem_prompt\u001B[49m\u001B[43m}\u001B[49m\u001B[43m,\u001B[49m\n\u001B[0;32m     16\u001B[0m \u001B[43m                \u001B[49m\u001B[43m{\u001B[49m\u001B[38;5;124;43m\"\u001B[39;49m\u001B[38;5;124;43mrole\u001B[39;49m\u001B[38;5;124;43m\"\u001B[39;49m\u001B[43m:\u001B[49m\u001B[43m \u001B[49m\u001B[38;5;124;43m\"\u001B[39;49m\u001B[38;5;124;43muser\u001B[39;49m\u001B[38;5;124;43m\"\u001B[39;49m\u001B[43m,\u001B[49m\u001B[43m \u001B[49m\u001B[38;5;124;43m\"\u001B[39;49m\u001B[38;5;124;43mcontent\u001B[39;49m\u001B[38;5;124;43m\"\u001B[39;49m\u001B[43m:\u001B[49m\u001B[43m \u001B[49m\u001B[43mprompt\u001B[49m\u001B[43m}\u001B[49m\u001B[43m,\u001B[49m\n\u001B[0;32m     17\u001B[0m \u001B[43m            \u001B[49m\u001B[43m]\u001B[49m\u001B[43m,\u001B[49m\n\u001B[0;32m     18\u001B[0m \u001B[43m        \u001B[49m\u001B[43m)\u001B[49m\n\u001B[0;32m     19\u001B[0m         \u001B[38;5;28;01mreturn\u001B[39;00m  response[\u001B[38;5;124m\"\u001B[39m\u001B[38;5;124mchoices\u001B[39m\u001B[38;5;124m\"\u001B[39m][\u001B[38;5;241m0\u001B[39m][\u001B[38;5;124m\"\u001B[39m\u001B[38;5;124mmessage\u001B[39m\u001B[38;5;124m\"\u001B[39m][\u001B[38;5;124m\"\u001B[39m\u001B[38;5;124mcontent\u001B[39m\u001B[38;5;124m\"\u001B[39m]\n\u001B[0;32m     22\u001B[0m \u001B[38;5;28;01mexcept\u001B[39;00m \u001B[38;5;167;01mException\u001B[39;00m \u001B[38;5;28;01mas\u001B[39;00m e:\n",
      "File \u001B[1;32mD:\\miniconda\\envs\\MedRAG\\lib\\site-packages\\openai\\api_resources\\chat_completion.py:25\u001B[0m, in \u001B[0;36mChatCompletion.create\u001B[1;34m(cls, *args, **kwargs)\u001B[0m\n\u001B[0;32m     23\u001B[0m \u001B[38;5;28;01mwhile\u001B[39;00m \u001B[38;5;28;01mTrue\u001B[39;00m:\n\u001B[0;32m     24\u001B[0m     \u001B[38;5;28;01mtry\u001B[39;00m:\n\u001B[1;32m---> 25\u001B[0m         \u001B[38;5;28;01mreturn\u001B[39;00m \u001B[38;5;28;43msuper\u001B[39;49m\u001B[43m(\u001B[49m\u001B[43m)\u001B[49m\u001B[38;5;241;43m.\u001B[39;49m\u001B[43mcreate\u001B[49m\u001B[43m(\u001B[49m\u001B[38;5;241;43m*\u001B[39;49m\u001B[43margs\u001B[49m\u001B[43m,\u001B[49m\u001B[43m \u001B[49m\u001B[38;5;241;43m*\u001B[39;49m\u001B[38;5;241;43m*\u001B[39;49m\u001B[43mkwargs\u001B[49m\u001B[43m)\u001B[49m\n\u001B[0;32m     26\u001B[0m     \u001B[38;5;28;01mexcept\u001B[39;00m TryAgain \u001B[38;5;28;01mas\u001B[39;00m e:\n\u001B[0;32m     27\u001B[0m         \u001B[38;5;28;01mif\u001B[39;00m timeout \u001B[38;5;129;01mis\u001B[39;00m \u001B[38;5;129;01mnot\u001B[39;00m \u001B[38;5;28;01mNone\u001B[39;00m \u001B[38;5;129;01mand\u001B[39;00m time\u001B[38;5;241m.\u001B[39mtime() \u001B[38;5;241m>\u001B[39m start \u001B[38;5;241m+\u001B[39m timeout:\n",
      "File \u001B[1;32mD:\\miniconda\\envs\\MedRAG\\lib\\site-packages\\openai\\api_resources\\abstract\\engine_api_resource.py:153\u001B[0m, in \u001B[0;36mEngineAPIResource.create\u001B[1;34m(cls, api_key, api_base, api_type, request_id, api_version, organization, **params)\u001B[0m\n\u001B[0;32m    127\u001B[0m \u001B[38;5;129m@classmethod\u001B[39m\n\u001B[0;32m    128\u001B[0m \u001B[38;5;28;01mdef\u001B[39;00m \u001B[38;5;21mcreate\u001B[39m(\n\u001B[0;32m    129\u001B[0m     \u001B[38;5;28mcls\u001B[39m,\n\u001B[1;32m   (...)\u001B[0m\n\u001B[0;32m    136\u001B[0m     \u001B[38;5;241m*\u001B[39m\u001B[38;5;241m*\u001B[39mparams,\n\u001B[0;32m    137\u001B[0m ):\n\u001B[0;32m    138\u001B[0m     (\n\u001B[0;32m    139\u001B[0m         deployment_id,\n\u001B[0;32m    140\u001B[0m         engine,\n\u001B[1;32m   (...)\u001B[0m\n\u001B[0;32m    150\u001B[0m         api_key, api_base, api_type, api_version, organization, \u001B[38;5;241m*\u001B[39m\u001B[38;5;241m*\u001B[39mparams\n\u001B[0;32m    151\u001B[0m     )\n\u001B[1;32m--> 153\u001B[0m     response, _, api_key \u001B[38;5;241m=\u001B[39m \u001B[43mrequestor\u001B[49m\u001B[38;5;241;43m.\u001B[39;49m\u001B[43mrequest\u001B[49m\u001B[43m(\u001B[49m\n\u001B[0;32m    154\u001B[0m \u001B[43m        \u001B[49m\u001B[38;5;124;43m\"\u001B[39;49m\u001B[38;5;124;43mpost\u001B[39;49m\u001B[38;5;124;43m\"\u001B[39;49m\u001B[43m,\u001B[49m\n\u001B[0;32m    155\u001B[0m \u001B[43m        \u001B[49m\u001B[43murl\u001B[49m\u001B[43m,\u001B[49m\n\u001B[0;32m    156\u001B[0m \u001B[43m        \u001B[49m\u001B[43mparams\u001B[49m\u001B[38;5;241;43m=\u001B[39;49m\u001B[43mparams\u001B[49m\u001B[43m,\u001B[49m\n\u001B[0;32m    157\u001B[0m \u001B[43m        \u001B[49m\u001B[43mheaders\u001B[49m\u001B[38;5;241;43m=\u001B[39;49m\u001B[43mheaders\u001B[49m\u001B[43m,\u001B[49m\n\u001B[0;32m    158\u001B[0m \u001B[43m        \u001B[49m\u001B[43mstream\u001B[49m\u001B[38;5;241;43m=\u001B[39;49m\u001B[43mstream\u001B[49m\u001B[43m,\u001B[49m\n\u001B[0;32m    159\u001B[0m \u001B[43m        \u001B[49m\u001B[43mrequest_id\u001B[49m\u001B[38;5;241;43m=\u001B[39;49m\u001B[43mrequest_id\u001B[49m\u001B[43m,\u001B[49m\n\u001B[0;32m    160\u001B[0m \u001B[43m        \u001B[49m\u001B[43mrequest_timeout\u001B[49m\u001B[38;5;241;43m=\u001B[39;49m\u001B[43mrequest_timeout\u001B[49m\u001B[43m,\u001B[49m\n\u001B[0;32m    161\u001B[0m \u001B[43m    \u001B[49m\u001B[43m)\u001B[49m\n\u001B[0;32m    163\u001B[0m     \u001B[38;5;28;01mif\u001B[39;00m stream:\n\u001B[0;32m    164\u001B[0m         \u001B[38;5;66;03m# must be an iterator\u001B[39;00m\n\u001B[0;32m    165\u001B[0m         \u001B[38;5;28;01massert\u001B[39;00m \u001B[38;5;129;01mnot\u001B[39;00m \u001B[38;5;28misinstance\u001B[39m(response, OpenAIResponse)\n",
      "File \u001B[1;32mD:\\miniconda\\envs\\MedRAG\\lib\\site-packages\\openai\\api_requestor.py:288\u001B[0m, in \u001B[0;36mAPIRequestor.request\u001B[1;34m(self, method, url, params, headers, files, stream, request_id, request_timeout)\u001B[0m\n\u001B[0;32m    277\u001B[0m \u001B[38;5;28;01mdef\u001B[39;00m \u001B[38;5;21mrequest\u001B[39m(\n\u001B[0;32m    278\u001B[0m     \u001B[38;5;28mself\u001B[39m,\n\u001B[0;32m    279\u001B[0m     method,\n\u001B[1;32m   (...)\u001B[0m\n\u001B[0;32m    286\u001B[0m     request_timeout: Optional[Union[\u001B[38;5;28mfloat\u001B[39m, Tuple[\u001B[38;5;28mfloat\u001B[39m, \u001B[38;5;28mfloat\u001B[39m]]] \u001B[38;5;241m=\u001B[39m \u001B[38;5;28;01mNone\u001B[39;00m,\n\u001B[0;32m    287\u001B[0m ) \u001B[38;5;241m-\u001B[39m\u001B[38;5;241m>\u001B[39m Tuple[Union[OpenAIResponse, Iterator[OpenAIResponse]], \u001B[38;5;28mbool\u001B[39m, \u001B[38;5;28mstr\u001B[39m]:\n\u001B[1;32m--> 288\u001B[0m     result \u001B[38;5;241m=\u001B[39m \u001B[38;5;28;43mself\u001B[39;49m\u001B[38;5;241;43m.\u001B[39;49m\u001B[43mrequest_raw\u001B[49m\u001B[43m(\u001B[49m\n\u001B[0;32m    289\u001B[0m \u001B[43m        \u001B[49m\u001B[43mmethod\u001B[49m\u001B[38;5;241;43m.\u001B[39;49m\u001B[43mlower\u001B[49m\u001B[43m(\u001B[49m\u001B[43m)\u001B[49m\u001B[43m,\u001B[49m\n\u001B[0;32m    290\u001B[0m \u001B[43m        \u001B[49m\u001B[43murl\u001B[49m\u001B[43m,\u001B[49m\n\u001B[0;32m    291\u001B[0m \u001B[43m        \u001B[49m\u001B[43mparams\u001B[49m\u001B[38;5;241;43m=\u001B[39;49m\u001B[43mparams\u001B[49m\u001B[43m,\u001B[49m\n\u001B[0;32m    292\u001B[0m \u001B[43m        \u001B[49m\u001B[43msupplied_headers\u001B[49m\u001B[38;5;241;43m=\u001B[39;49m\u001B[43mheaders\u001B[49m\u001B[43m,\u001B[49m\n\u001B[0;32m    293\u001B[0m \u001B[43m        \u001B[49m\u001B[43mfiles\u001B[49m\u001B[38;5;241;43m=\u001B[39;49m\u001B[43mfiles\u001B[49m\u001B[43m,\u001B[49m\n\u001B[0;32m    294\u001B[0m \u001B[43m        \u001B[49m\u001B[43mstream\u001B[49m\u001B[38;5;241;43m=\u001B[39;49m\u001B[43mstream\u001B[49m\u001B[43m,\u001B[49m\n\u001B[0;32m    295\u001B[0m \u001B[43m        \u001B[49m\u001B[43mrequest_id\u001B[49m\u001B[38;5;241;43m=\u001B[39;49m\u001B[43mrequest_id\u001B[49m\u001B[43m,\u001B[49m\n\u001B[0;32m    296\u001B[0m \u001B[43m        \u001B[49m\u001B[43mrequest_timeout\u001B[49m\u001B[38;5;241;43m=\u001B[39;49m\u001B[43mrequest_timeout\u001B[49m\u001B[43m,\u001B[49m\n\u001B[0;32m    297\u001B[0m \u001B[43m    \u001B[49m\u001B[43m)\u001B[49m\n\u001B[0;32m    298\u001B[0m     resp, got_stream \u001B[38;5;241m=\u001B[39m \u001B[38;5;28mself\u001B[39m\u001B[38;5;241m.\u001B[39m_interpret_response(result, stream)\n\u001B[0;32m    299\u001B[0m     \u001B[38;5;28;01mreturn\u001B[39;00m resp, got_stream, \u001B[38;5;28mself\u001B[39m\u001B[38;5;241m.\u001B[39mapi_key\n",
      "File \u001B[1;32mD:\\miniconda\\envs\\MedRAG\\lib\\site-packages\\openai\\api_requestor.py:596\u001B[0m, in \u001B[0;36mAPIRequestor.request_raw\u001B[1;34m(self, method, url, params, supplied_headers, files, stream, request_id, request_timeout)\u001B[0m\n\u001B[0;32m    594\u001B[0m     _thread_context\u001B[38;5;241m.\u001B[39msession_create_time \u001B[38;5;241m=\u001B[39m time\u001B[38;5;241m.\u001B[39mtime()\n\u001B[0;32m    595\u001B[0m \u001B[38;5;28;01mtry\u001B[39;00m:\n\u001B[1;32m--> 596\u001B[0m     result \u001B[38;5;241m=\u001B[39m \u001B[43m_thread_context\u001B[49m\u001B[38;5;241;43m.\u001B[39;49m\u001B[43msession\u001B[49m\u001B[38;5;241;43m.\u001B[39;49m\u001B[43mrequest\u001B[49m\u001B[43m(\u001B[49m\n\u001B[0;32m    597\u001B[0m \u001B[43m        \u001B[49m\u001B[43mmethod\u001B[49m\u001B[43m,\u001B[49m\n\u001B[0;32m    598\u001B[0m \u001B[43m        \u001B[49m\u001B[43mabs_url\u001B[49m\u001B[43m,\u001B[49m\n\u001B[0;32m    599\u001B[0m \u001B[43m        \u001B[49m\u001B[43mheaders\u001B[49m\u001B[38;5;241;43m=\u001B[39;49m\u001B[43mheaders\u001B[49m\u001B[43m,\u001B[49m\n\u001B[0;32m    600\u001B[0m \u001B[43m        \u001B[49m\u001B[43mdata\u001B[49m\u001B[38;5;241;43m=\u001B[39;49m\u001B[43mdata\u001B[49m\u001B[43m,\u001B[49m\n\u001B[0;32m    601\u001B[0m \u001B[43m        \u001B[49m\u001B[43mfiles\u001B[49m\u001B[38;5;241;43m=\u001B[39;49m\u001B[43mfiles\u001B[49m\u001B[43m,\u001B[49m\n\u001B[0;32m    602\u001B[0m \u001B[43m        \u001B[49m\u001B[43mstream\u001B[49m\u001B[38;5;241;43m=\u001B[39;49m\u001B[43mstream\u001B[49m\u001B[43m,\u001B[49m\n\u001B[0;32m    603\u001B[0m \u001B[43m        \u001B[49m\u001B[43mtimeout\u001B[49m\u001B[38;5;241;43m=\u001B[39;49m\u001B[43mrequest_timeout\u001B[49m\u001B[43m \u001B[49m\u001B[38;5;28;43;01mif\u001B[39;49;00m\u001B[43m \u001B[49m\u001B[43mrequest_timeout\u001B[49m\u001B[43m \u001B[49m\u001B[38;5;28;43;01melse\u001B[39;49;00m\u001B[43m \u001B[49m\u001B[43mTIMEOUT_SECS\u001B[49m\u001B[43m,\u001B[49m\n\u001B[0;32m    604\u001B[0m \u001B[43m        \u001B[49m\u001B[43mproxies\u001B[49m\u001B[38;5;241;43m=\u001B[39;49m\u001B[43m_thread_context\u001B[49m\u001B[38;5;241;43m.\u001B[39;49m\u001B[43msession\u001B[49m\u001B[38;5;241;43m.\u001B[39;49m\u001B[43mproxies\u001B[49m\u001B[43m,\u001B[49m\n\u001B[0;32m    605\u001B[0m \u001B[43m    \u001B[49m\u001B[43m)\u001B[49m\n\u001B[0;32m    606\u001B[0m \u001B[38;5;28;01mexcept\u001B[39;00m requests\u001B[38;5;241m.\u001B[39mexceptions\u001B[38;5;241m.\u001B[39mTimeout \u001B[38;5;28;01mas\u001B[39;00m e:\n\u001B[0;32m    607\u001B[0m     \u001B[38;5;28;01mraise\u001B[39;00m error\u001B[38;5;241m.\u001B[39mTimeout(\u001B[38;5;124m\"\u001B[39m\u001B[38;5;124mRequest timed out: \u001B[39m\u001B[38;5;132;01m{}\u001B[39;00m\u001B[38;5;124m\"\u001B[39m\u001B[38;5;241m.\u001B[39mformat(e)) \u001B[38;5;28;01mfrom\u001B[39;00m \u001B[38;5;21;01me\u001B[39;00m\n",
      "File \u001B[1;32mD:\\miniconda\\envs\\MedRAG\\lib\\site-packages\\requests\\sessions.py:589\u001B[0m, in \u001B[0;36mSession.request\u001B[1;34m(self, method, url, params, data, headers, cookies, files, auth, timeout, allow_redirects, proxies, hooks, stream, verify, cert, json)\u001B[0m\n\u001B[0;32m    584\u001B[0m send_kwargs \u001B[38;5;241m=\u001B[39m {\n\u001B[0;32m    585\u001B[0m     \u001B[38;5;124m\"\u001B[39m\u001B[38;5;124mtimeout\u001B[39m\u001B[38;5;124m\"\u001B[39m: timeout,\n\u001B[0;32m    586\u001B[0m     \u001B[38;5;124m\"\u001B[39m\u001B[38;5;124mallow_redirects\u001B[39m\u001B[38;5;124m\"\u001B[39m: allow_redirects,\n\u001B[0;32m    587\u001B[0m }\n\u001B[0;32m    588\u001B[0m send_kwargs\u001B[38;5;241m.\u001B[39mupdate(settings)\n\u001B[1;32m--> 589\u001B[0m resp \u001B[38;5;241m=\u001B[39m \u001B[38;5;28;43mself\u001B[39;49m\u001B[38;5;241;43m.\u001B[39;49m\u001B[43msend\u001B[49m\u001B[43m(\u001B[49m\u001B[43mprep\u001B[49m\u001B[43m,\u001B[49m\u001B[43m \u001B[49m\u001B[38;5;241;43m*\u001B[39;49m\u001B[38;5;241;43m*\u001B[39;49m\u001B[43msend_kwargs\u001B[49m\u001B[43m)\u001B[49m\n\u001B[0;32m    591\u001B[0m \u001B[38;5;28;01mreturn\u001B[39;00m resp\n",
      "File \u001B[1;32mD:\\miniconda\\envs\\MedRAG\\lib\\site-packages\\requests\\sessions.py:703\u001B[0m, in \u001B[0;36mSession.send\u001B[1;34m(self, request, **kwargs)\u001B[0m\n\u001B[0;32m    700\u001B[0m start \u001B[38;5;241m=\u001B[39m preferred_clock()\n\u001B[0;32m    702\u001B[0m \u001B[38;5;66;03m# Send the request\u001B[39;00m\n\u001B[1;32m--> 703\u001B[0m r \u001B[38;5;241m=\u001B[39m \u001B[43madapter\u001B[49m\u001B[38;5;241;43m.\u001B[39;49m\u001B[43msend\u001B[49m\u001B[43m(\u001B[49m\u001B[43mrequest\u001B[49m\u001B[43m,\u001B[49m\u001B[43m \u001B[49m\u001B[38;5;241;43m*\u001B[39;49m\u001B[38;5;241;43m*\u001B[39;49m\u001B[43mkwargs\u001B[49m\u001B[43m)\u001B[49m\n\u001B[0;32m    705\u001B[0m \u001B[38;5;66;03m# Total elapsed time of the request (approximately)\u001B[39;00m\n\u001B[0;32m    706\u001B[0m elapsed \u001B[38;5;241m=\u001B[39m preferred_clock() \u001B[38;5;241m-\u001B[39m start\n",
      "File \u001B[1;32mD:\\miniconda\\envs\\MedRAG\\lib\\site-packages\\requests\\adapters.py:667\u001B[0m, in \u001B[0;36mHTTPAdapter.send\u001B[1;34m(self, request, stream, timeout, verify, cert, proxies)\u001B[0m\n\u001B[0;32m    664\u001B[0m     timeout \u001B[38;5;241m=\u001B[39m TimeoutSauce(connect\u001B[38;5;241m=\u001B[39mtimeout, read\u001B[38;5;241m=\u001B[39mtimeout)\n\u001B[0;32m    666\u001B[0m \u001B[38;5;28;01mtry\u001B[39;00m:\n\u001B[1;32m--> 667\u001B[0m     resp \u001B[38;5;241m=\u001B[39m \u001B[43mconn\u001B[49m\u001B[38;5;241;43m.\u001B[39;49m\u001B[43murlopen\u001B[49m\u001B[43m(\u001B[49m\n\u001B[0;32m    668\u001B[0m \u001B[43m        \u001B[49m\u001B[43mmethod\u001B[49m\u001B[38;5;241;43m=\u001B[39;49m\u001B[43mrequest\u001B[49m\u001B[38;5;241;43m.\u001B[39;49m\u001B[43mmethod\u001B[49m\u001B[43m,\u001B[49m\n\u001B[0;32m    669\u001B[0m \u001B[43m        \u001B[49m\u001B[43murl\u001B[49m\u001B[38;5;241;43m=\u001B[39;49m\u001B[43murl\u001B[49m\u001B[43m,\u001B[49m\n\u001B[0;32m    670\u001B[0m \u001B[43m        \u001B[49m\u001B[43mbody\u001B[49m\u001B[38;5;241;43m=\u001B[39;49m\u001B[43mrequest\u001B[49m\u001B[38;5;241;43m.\u001B[39;49m\u001B[43mbody\u001B[49m\u001B[43m,\u001B[49m\n\u001B[0;32m    671\u001B[0m \u001B[43m        \u001B[49m\u001B[43mheaders\u001B[49m\u001B[38;5;241;43m=\u001B[39;49m\u001B[43mrequest\u001B[49m\u001B[38;5;241;43m.\u001B[39;49m\u001B[43mheaders\u001B[49m\u001B[43m,\u001B[49m\n\u001B[0;32m    672\u001B[0m \u001B[43m        \u001B[49m\u001B[43mredirect\u001B[49m\u001B[38;5;241;43m=\u001B[39;49m\u001B[38;5;28;43;01mFalse\u001B[39;49;00m\u001B[43m,\u001B[49m\n\u001B[0;32m    673\u001B[0m \u001B[43m        \u001B[49m\u001B[43massert_same_host\u001B[49m\u001B[38;5;241;43m=\u001B[39;49m\u001B[38;5;28;43;01mFalse\u001B[39;49;00m\u001B[43m,\u001B[49m\n\u001B[0;32m    674\u001B[0m \u001B[43m        \u001B[49m\u001B[43mpreload_content\u001B[49m\u001B[38;5;241;43m=\u001B[39;49m\u001B[38;5;28;43;01mFalse\u001B[39;49;00m\u001B[43m,\u001B[49m\n\u001B[0;32m    675\u001B[0m \u001B[43m        \u001B[49m\u001B[43mdecode_content\u001B[49m\u001B[38;5;241;43m=\u001B[39;49m\u001B[38;5;28;43;01mFalse\u001B[39;49;00m\u001B[43m,\u001B[49m\n\u001B[0;32m    676\u001B[0m \u001B[43m        \u001B[49m\u001B[43mretries\u001B[49m\u001B[38;5;241;43m=\u001B[39;49m\u001B[38;5;28;43mself\u001B[39;49m\u001B[38;5;241;43m.\u001B[39;49m\u001B[43mmax_retries\u001B[49m\u001B[43m,\u001B[49m\n\u001B[0;32m    677\u001B[0m \u001B[43m        \u001B[49m\u001B[43mtimeout\u001B[49m\u001B[38;5;241;43m=\u001B[39;49m\u001B[43mtimeout\u001B[49m\u001B[43m,\u001B[49m\n\u001B[0;32m    678\u001B[0m \u001B[43m        \u001B[49m\u001B[43mchunked\u001B[49m\u001B[38;5;241;43m=\u001B[39;49m\u001B[43mchunked\u001B[49m\u001B[43m,\u001B[49m\n\u001B[0;32m    679\u001B[0m \u001B[43m    \u001B[49m\u001B[43m)\u001B[49m\n\u001B[0;32m    681\u001B[0m \u001B[38;5;28;01mexcept\u001B[39;00m (ProtocolError, \u001B[38;5;167;01mOSError\u001B[39;00m) \u001B[38;5;28;01mas\u001B[39;00m err:\n\u001B[0;32m    682\u001B[0m     \u001B[38;5;28;01mraise\u001B[39;00m \u001B[38;5;167;01mConnectionError\u001B[39;00m(err, request\u001B[38;5;241m=\u001B[39mrequest)\n",
      "File \u001B[1;32mD:\\miniconda\\envs\\MedRAG\\lib\\site-packages\\urllib3\\connectionpool.py:789\u001B[0m, in \u001B[0;36mHTTPConnectionPool.urlopen\u001B[1;34m(self, method, url, body, headers, retries, redirect, assert_same_host, timeout, pool_timeout, release_conn, chunked, body_pos, preload_content, decode_content, **response_kw)\u001B[0m\n\u001B[0;32m    786\u001B[0m response_conn \u001B[38;5;241m=\u001B[39m conn \u001B[38;5;28;01mif\u001B[39;00m \u001B[38;5;129;01mnot\u001B[39;00m release_conn \u001B[38;5;28;01melse\u001B[39;00m \u001B[38;5;28;01mNone\u001B[39;00m\n\u001B[0;32m    788\u001B[0m \u001B[38;5;66;03m# Make the request on the HTTPConnection object\u001B[39;00m\n\u001B[1;32m--> 789\u001B[0m response \u001B[38;5;241m=\u001B[39m \u001B[38;5;28;43mself\u001B[39;49m\u001B[38;5;241;43m.\u001B[39;49m\u001B[43m_make_request\u001B[49m\u001B[43m(\u001B[49m\n\u001B[0;32m    790\u001B[0m \u001B[43m    \u001B[49m\u001B[43mconn\u001B[49m\u001B[43m,\u001B[49m\n\u001B[0;32m    791\u001B[0m \u001B[43m    \u001B[49m\u001B[43mmethod\u001B[49m\u001B[43m,\u001B[49m\n\u001B[0;32m    792\u001B[0m \u001B[43m    \u001B[49m\u001B[43murl\u001B[49m\u001B[43m,\u001B[49m\n\u001B[0;32m    793\u001B[0m \u001B[43m    \u001B[49m\u001B[43mtimeout\u001B[49m\u001B[38;5;241;43m=\u001B[39;49m\u001B[43mtimeout_obj\u001B[49m\u001B[43m,\u001B[49m\n\u001B[0;32m    794\u001B[0m \u001B[43m    \u001B[49m\u001B[43mbody\u001B[49m\u001B[38;5;241;43m=\u001B[39;49m\u001B[43mbody\u001B[49m\u001B[43m,\u001B[49m\n\u001B[0;32m    795\u001B[0m \u001B[43m    \u001B[49m\u001B[43mheaders\u001B[49m\u001B[38;5;241;43m=\u001B[39;49m\u001B[43mheaders\u001B[49m\u001B[43m,\u001B[49m\n\u001B[0;32m    796\u001B[0m \u001B[43m    \u001B[49m\u001B[43mchunked\u001B[49m\u001B[38;5;241;43m=\u001B[39;49m\u001B[43mchunked\u001B[49m\u001B[43m,\u001B[49m\n\u001B[0;32m    797\u001B[0m \u001B[43m    \u001B[49m\u001B[43mretries\u001B[49m\u001B[38;5;241;43m=\u001B[39;49m\u001B[43mretries\u001B[49m\u001B[43m,\u001B[49m\n\u001B[0;32m    798\u001B[0m \u001B[43m    \u001B[49m\u001B[43mresponse_conn\u001B[49m\u001B[38;5;241;43m=\u001B[39;49m\u001B[43mresponse_conn\u001B[49m\u001B[43m,\u001B[49m\n\u001B[0;32m    799\u001B[0m \u001B[43m    \u001B[49m\u001B[43mpreload_content\u001B[49m\u001B[38;5;241;43m=\u001B[39;49m\u001B[43mpreload_content\u001B[49m\u001B[43m,\u001B[49m\n\u001B[0;32m    800\u001B[0m \u001B[43m    \u001B[49m\u001B[43mdecode_content\u001B[49m\u001B[38;5;241;43m=\u001B[39;49m\u001B[43mdecode_content\u001B[49m\u001B[43m,\u001B[49m\n\u001B[0;32m    801\u001B[0m \u001B[43m    \u001B[49m\u001B[38;5;241;43m*\u001B[39;49m\u001B[38;5;241;43m*\u001B[39;49m\u001B[43mresponse_kw\u001B[49m\u001B[43m,\u001B[49m\n\u001B[0;32m    802\u001B[0m \u001B[43m\u001B[49m\u001B[43m)\u001B[49m\n\u001B[0;32m    804\u001B[0m \u001B[38;5;66;03m# Everything went great!\u001B[39;00m\n\u001B[0;32m    805\u001B[0m clean_exit \u001B[38;5;241m=\u001B[39m \u001B[38;5;28;01mTrue\u001B[39;00m\n",
      "File \u001B[1;32mD:\\miniconda\\envs\\MedRAG\\lib\\site-packages\\urllib3\\connectionpool.py:536\u001B[0m, in \u001B[0;36mHTTPConnectionPool._make_request\u001B[1;34m(self, conn, method, url, body, headers, retries, timeout, chunked, response_conn, preload_content, decode_content, enforce_content_length)\u001B[0m\n\u001B[0;32m    534\u001B[0m \u001B[38;5;66;03m# Receive the response from the server\u001B[39;00m\n\u001B[0;32m    535\u001B[0m \u001B[38;5;28;01mtry\u001B[39;00m:\n\u001B[1;32m--> 536\u001B[0m     response \u001B[38;5;241m=\u001B[39m \u001B[43mconn\u001B[49m\u001B[38;5;241;43m.\u001B[39;49m\u001B[43mgetresponse\u001B[49m\u001B[43m(\u001B[49m\u001B[43m)\u001B[49m\n\u001B[0;32m    537\u001B[0m \u001B[38;5;28;01mexcept\u001B[39;00m (BaseSSLError, \u001B[38;5;167;01mOSError\u001B[39;00m) \u001B[38;5;28;01mas\u001B[39;00m e:\n\u001B[0;32m    538\u001B[0m     \u001B[38;5;28mself\u001B[39m\u001B[38;5;241m.\u001B[39m_raise_timeout(err\u001B[38;5;241m=\u001B[39me, url\u001B[38;5;241m=\u001B[39murl, timeout_value\u001B[38;5;241m=\u001B[39mread_timeout)\n",
      "File \u001B[1;32mD:\\miniconda\\envs\\MedRAG\\lib\\site-packages\\urllib3\\connection.py:507\u001B[0m, in \u001B[0;36mHTTPConnection.getresponse\u001B[1;34m(self)\u001B[0m\n\u001B[0;32m    504\u001B[0m \u001B[38;5;28;01mfrom\u001B[39;00m \u001B[38;5;21;01m.\u001B[39;00m\u001B[38;5;21;01mresponse\u001B[39;00m \u001B[38;5;28;01mimport\u001B[39;00m HTTPResponse\n\u001B[0;32m    506\u001B[0m \u001B[38;5;66;03m# Get the response from http.client.HTTPConnection\u001B[39;00m\n\u001B[1;32m--> 507\u001B[0m httplib_response \u001B[38;5;241m=\u001B[39m \u001B[38;5;28;43msuper\u001B[39;49m\u001B[43m(\u001B[49m\u001B[43m)\u001B[49m\u001B[38;5;241;43m.\u001B[39;49m\u001B[43mgetresponse\u001B[49m\u001B[43m(\u001B[49m\u001B[43m)\u001B[49m\n\u001B[0;32m    509\u001B[0m \u001B[38;5;28;01mtry\u001B[39;00m:\n\u001B[0;32m    510\u001B[0m     assert_header_parsing(httplib_response\u001B[38;5;241m.\u001B[39mmsg)\n",
      "File \u001B[1;32mD:\\miniconda\\envs\\MedRAG\\lib\\http\\client.py:1348\u001B[0m, in \u001B[0;36mHTTPConnection.getresponse\u001B[1;34m(self)\u001B[0m\n\u001B[0;32m   1346\u001B[0m \u001B[38;5;28;01mtry\u001B[39;00m:\n\u001B[0;32m   1347\u001B[0m     \u001B[38;5;28;01mtry\u001B[39;00m:\n\u001B[1;32m-> 1348\u001B[0m         \u001B[43mresponse\u001B[49m\u001B[38;5;241;43m.\u001B[39;49m\u001B[43mbegin\u001B[49m\u001B[43m(\u001B[49m\u001B[43m)\u001B[49m\n\u001B[0;32m   1349\u001B[0m     \u001B[38;5;28;01mexcept\u001B[39;00m \u001B[38;5;167;01mConnectionError\u001B[39;00m:\n\u001B[0;32m   1350\u001B[0m         \u001B[38;5;28mself\u001B[39m\u001B[38;5;241m.\u001B[39mclose()\n",
      "File \u001B[1;32mD:\\miniconda\\envs\\MedRAG\\lib\\http\\client.py:316\u001B[0m, in \u001B[0;36mHTTPResponse.begin\u001B[1;34m(self)\u001B[0m\n\u001B[0;32m    314\u001B[0m \u001B[38;5;66;03m# read until we get a non-100 response\u001B[39;00m\n\u001B[0;32m    315\u001B[0m \u001B[38;5;28;01mwhile\u001B[39;00m \u001B[38;5;28;01mTrue\u001B[39;00m:\n\u001B[1;32m--> 316\u001B[0m     version, status, reason \u001B[38;5;241m=\u001B[39m \u001B[38;5;28;43mself\u001B[39;49m\u001B[38;5;241;43m.\u001B[39;49m\u001B[43m_read_status\u001B[49m\u001B[43m(\u001B[49m\u001B[43m)\u001B[49m\n\u001B[0;32m    317\u001B[0m     \u001B[38;5;28;01mif\u001B[39;00m status \u001B[38;5;241m!=\u001B[39m CONTINUE:\n\u001B[0;32m    318\u001B[0m         \u001B[38;5;28;01mbreak\u001B[39;00m\n",
      "File \u001B[1;32mD:\\miniconda\\envs\\MedRAG\\lib\\http\\client.py:277\u001B[0m, in \u001B[0;36mHTTPResponse._read_status\u001B[1;34m(self)\u001B[0m\n\u001B[0;32m    276\u001B[0m \u001B[38;5;28;01mdef\u001B[39;00m \u001B[38;5;21m_read_status\u001B[39m(\u001B[38;5;28mself\u001B[39m):\n\u001B[1;32m--> 277\u001B[0m     line \u001B[38;5;241m=\u001B[39m \u001B[38;5;28mstr\u001B[39m(\u001B[38;5;28;43mself\u001B[39;49m\u001B[38;5;241;43m.\u001B[39;49m\u001B[43mfp\u001B[49m\u001B[38;5;241;43m.\u001B[39;49m\u001B[43mreadline\u001B[49m\u001B[43m(\u001B[49m\u001B[43m_MAXLINE\u001B[49m\u001B[43m \u001B[49m\u001B[38;5;241;43m+\u001B[39;49m\u001B[43m \u001B[49m\u001B[38;5;241;43m1\u001B[39;49m\u001B[43m)\u001B[49m, \u001B[38;5;124m\"\u001B[39m\u001B[38;5;124miso-8859-1\u001B[39m\u001B[38;5;124m\"\u001B[39m)\n\u001B[0;32m    278\u001B[0m     \u001B[38;5;28;01mif\u001B[39;00m \u001B[38;5;28mlen\u001B[39m(line) \u001B[38;5;241m>\u001B[39m _MAXLINE:\n\u001B[0;32m    279\u001B[0m         \u001B[38;5;28;01mraise\u001B[39;00m LineTooLong(\u001B[38;5;124m\"\u001B[39m\u001B[38;5;124mstatus line\u001B[39m\u001B[38;5;124m\"\u001B[39m)\n",
      "File \u001B[1;32mD:\\miniconda\\envs\\MedRAG\\lib\\socket.py:669\u001B[0m, in \u001B[0;36mSocketIO.readinto\u001B[1;34m(self, b)\u001B[0m\n\u001B[0;32m    667\u001B[0m \u001B[38;5;28;01mwhile\u001B[39;00m \u001B[38;5;28;01mTrue\u001B[39;00m:\n\u001B[0;32m    668\u001B[0m     \u001B[38;5;28;01mtry\u001B[39;00m:\n\u001B[1;32m--> 669\u001B[0m         \u001B[38;5;28;01mreturn\u001B[39;00m \u001B[38;5;28;43mself\u001B[39;49m\u001B[38;5;241;43m.\u001B[39;49m\u001B[43m_sock\u001B[49m\u001B[38;5;241;43m.\u001B[39;49m\u001B[43mrecv_into\u001B[49m\u001B[43m(\u001B[49m\u001B[43mb\u001B[49m\u001B[43m)\u001B[49m\n\u001B[0;32m    670\u001B[0m     \u001B[38;5;28;01mexcept\u001B[39;00m timeout:\n\u001B[0;32m    671\u001B[0m         \u001B[38;5;28mself\u001B[39m\u001B[38;5;241m.\u001B[39m_timeout_occurred \u001B[38;5;241m=\u001B[39m \u001B[38;5;28;01mTrue\u001B[39;00m\n",
      "File \u001B[1;32mD:\\miniconda\\envs\\MedRAG\\lib\\ssl.py:1274\u001B[0m, in \u001B[0;36mSSLSocket.recv_into\u001B[1;34m(self, buffer, nbytes, flags)\u001B[0m\n\u001B[0;32m   1270\u001B[0m     \u001B[38;5;28;01mif\u001B[39;00m flags \u001B[38;5;241m!=\u001B[39m \u001B[38;5;241m0\u001B[39m:\n\u001B[0;32m   1271\u001B[0m         \u001B[38;5;28;01mraise\u001B[39;00m \u001B[38;5;167;01mValueError\u001B[39;00m(\n\u001B[0;32m   1272\u001B[0m           \u001B[38;5;124m\"\u001B[39m\u001B[38;5;124mnon-zero flags not allowed in calls to recv_into() on \u001B[39m\u001B[38;5;132;01m%s\u001B[39;00m\u001B[38;5;124m\"\u001B[39m \u001B[38;5;241m%\u001B[39m\n\u001B[0;32m   1273\u001B[0m           \u001B[38;5;28mself\u001B[39m\u001B[38;5;241m.\u001B[39m\u001B[38;5;18m__class__\u001B[39m)\n\u001B[1;32m-> 1274\u001B[0m     \u001B[38;5;28;01mreturn\u001B[39;00m \u001B[38;5;28;43mself\u001B[39;49m\u001B[38;5;241;43m.\u001B[39;49m\u001B[43mread\u001B[49m\u001B[43m(\u001B[49m\u001B[43mnbytes\u001B[49m\u001B[43m,\u001B[49m\u001B[43m \u001B[49m\u001B[43mbuffer\u001B[49m\u001B[43m)\u001B[49m\n\u001B[0;32m   1275\u001B[0m \u001B[38;5;28;01melse\u001B[39;00m:\n\u001B[0;32m   1276\u001B[0m     \u001B[38;5;28;01mreturn\u001B[39;00m \u001B[38;5;28msuper\u001B[39m()\u001B[38;5;241m.\u001B[39mrecv_into(buffer, nbytes, flags)\n",
      "File \u001B[1;32mD:\\miniconda\\envs\\MedRAG\\lib\\ssl.py:1132\u001B[0m, in \u001B[0;36mSSLSocket.read\u001B[1;34m(self, len, buffer)\u001B[0m\n\u001B[0;32m   1130\u001B[0m \u001B[38;5;28;01mtry\u001B[39;00m:\n\u001B[0;32m   1131\u001B[0m     \u001B[38;5;28;01mif\u001B[39;00m buffer \u001B[38;5;129;01mis\u001B[39;00m \u001B[38;5;129;01mnot\u001B[39;00m \u001B[38;5;28;01mNone\u001B[39;00m:\n\u001B[1;32m-> 1132\u001B[0m         \u001B[38;5;28;01mreturn\u001B[39;00m \u001B[38;5;28;43mself\u001B[39;49m\u001B[38;5;241;43m.\u001B[39;49m\u001B[43m_sslobj\u001B[49m\u001B[38;5;241;43m.\u001B[39;49m\u001B[43mread\u001B[49m\u001B[43m(\u001B[49m\u001B[38;5;28;43mlen\u001B[39;49m\u001B[43m,\u001B[49m\u001B[43m \u001B[49m\u001B[43mbuffer\u001B[49m\u001B[43m)\u001B[49m\n\u001B[0;32m   1133\u001B[0m     \u001B[38;5;28;01melse\u001B[39;00m:\n\u001B[0;32m   1134\u001B[0m         \u001B[38;5;28;01mreturn\u001B[39;00m \u001B[38;5;28mself\u001B[39m\u001B[38;5;241m.\u001B[39m_sslobj\u001B[38;5;241m.\u001B[39mread(\u001B[38;5;28mlen\u001B[39m)\n",
      "\u001B[1;31mKeyboardInterrupt\u001B[0m: "
     ]
    }
   ],
   "source": [
    "conversation_history=\"\"\n",
    "total_inferences=5\n",
    "#one of the problem is that the doctor agent trends\n",
    "\n",
    "correct_num=0\n",
    "\n",
    "for idx, _case in enumerate(data, start=1):\n",
    "    #initial data\n",
    "    case=DataDistributor(_case) \n",
    "    patient_agent=Patient(case)\n",
    "    laboratory=Laboratory(case)\n",
    "    doctor=Doctor(max_conversation=total_inferences)\n",
    "    \n",
    "    #start inference\n",
    "    doctor_question=\"Hello, I’m doctor. Could you tell me what’s been bothering you recently or if you have any symptoms you’d like to share?\"    #let's hypnosis that the doctor will say the first sentence\n",
    "    for round_idx in tqdm(range(total_inferences+1)):   #inference stage+1 decision making stage\n",
    "    #     if round_idx == total_inferences - 1:\n",
    "    #         conversation_history += \"This is the final question. Please provide a diagnosis.\\n  maybe we don't need\n",
    "        print(f\"Round {round_idx+1}\")\n",
    "        patient_answer=patient_agent.return_question(doctor_question) #doctor ask question\n",
    "        print(\"Patient:\"+patient_answer)\n",
    "        doctor_question=doctor.return_question(patient_answer) #patient return answer\n",
    "        print(\"Doctor:\"+doctor_question)\n",
    "    # check if the doctor diagnosis is right\n",
    "    print(f\"True disease is {case.disease},doctor diagnosis is {doctor_question}\")\n",
    "    if evaluate(case.disease,doctor_question) == \"Yes\":\n",
    "        correct_num+=1\n",
    "    print(f\"Accuracy={correct_num/idx:.2%},total {idx}cases,{correct_num} are right\")\n",
    "    \n",
    "    "
   ],
   "metadata": {
    "collapsed": false,
    "ExecuteTime": {
     "end_time": "2025-01-04T18:12:09.525785Z",
     "start_time": "2025-01-04T18:11:53.893247Z"
    }
   },
   "id": "e1c66cfb6dc1a298",
   "execution_count": 151
  },
  {
   "cell_type": "code",
   "outputs": [],
   "source": [
    "\n"
   ],
   "metadata": {
    "collapsed": false
   },
   "id": "bc88f35642ae34d3"
  }
 ],
 "metadata": {
  "kernelspec": {
   "display_name": "Python 3",
   "language": "python",
   "name": "python3"
  },
  "language_info": {
   "codemirror_mode": {
    "name": "ipython",
    "version": 2
   },
   "file_extension": ".py",
   "mimetype": "text/x-python",
   "name": "python",
   "nbconvert_exporter": "python",
   "pygments_lexer": "ipython2",
   "version": "2.7.6"
  }
 },
 "nbformat": 4,
 "nbformat_minor": 5
}

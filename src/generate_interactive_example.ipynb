{
 "cells": [
  {
   "cell_type": "code",
   "outputs": [],
   "source": [
    "from datasets import load_dataset"
   ],
   "metadata": {
    "collapsed": false,
    "ExecuteTime": {
     "end_time": "2024-12-22T10:54:40.533823Z",
     "start_time": "2024-12-22T10:54:40.519611Z"
    }
   },
   "id": "d587203c8a653086",
   "execution_count": 4
  },
  {
   "cell_type": "code",
   "outputs": [
    {
     "data": {
      "text/plain": "Generating train split: 0 examples [00:00, ? examples/s]",
      "application/vnd.jupyter.widget-view+json": {
       "version_major": 2,
       "version_minor": 0,
       "model_id": "701080bcb53240618efad6c0e8806c1e"
      }
     },
     "metadata": {},
     "output_type": "display_data"
    }
   ],
   "source": [
    "# Load the MedQA test dataset\n",
    "medqa_test_set = load_dataset(\"json\",data_files=\"../data/MedQA/questions/US/test.jsonl\")\n",
    "# hint: data_files is a list of file paths.the first parameter is the dataset format"
   ],
   "metadata": {
    "collapsed": false,
    "ExecuteTime": {
     "end_time": "2024-12-22T10:54:41.732714Z",
     "start_time": "2024-12-22T10:54:40.535266Z"
    }
   },
   "id": "b23e1aac3a2a5642",
   "execution_count": 5
  },
  {
   "cell_type": "code",
   "outputs": [
    {
     "name": "stdout",
     "output_type": "stream",
     "text": [
      "{'question': ['A junior orthopaedic surgery resident is completing a carpal tunnel repair with the department chairman as the attending physician. During the case, the resident inadvertently cuts a flexor tendon. The tendon is repaired without complication. The attending tells the resident that the patient will do fine, and there is no need to report this minor complication that will not harm the patient, as he does not want to make the patient worry unnecessarily. He tells the resident to leave this complication out of the operative report. Which of the following is the correct next action for the resident to take?', \"A 67-year-old man with transitional cell carcinoma of the bladder comes to the physician because of a 2-day history of ringing sensation in his ear. He received this first course of neoadjuvant chemotherapy 1 week ago. Pure tone audiometry shows a sensorineural hearing loss of 45 dB. The expected beneficial effect of the drug that caused this patient's symptoms is most likely due to which of the following actions?\", 'Two weeks after undergoing an emergency cardiac catherization with stenting for unstable angina pectoris, a 61-year-old man has decreased urinary output and malaise. He has type 2 diabetes mellitus and osteoarthritis of the hips. Prior to admission, his medications were insulin and naproxen. He was also started on aspirin, clopidogrel, and metoprolol after the coronary intervention. His temperature is 38°C (100.4°F), pulse is 93/min, and blood pressure is 125/85 mm Hg. Examination shows mottled, reticulated purplish discoloration of the feet. Laboratory studies show:\\nHemoglobin count 14 g/dL\\nLeukocyte count 16,400/mm3\\nSegmented neutrophils 56%\\nEosinophils 11%\\nLymphocytes 31%\\nMonocytes 2%\\nPlatelet count 260,000/mm3\\nErythrocyte sedimentation rate 68 mm/h\\nSerum\\nUrea nitrogen 25 mg/dL\\nCreatinine 4.2 mg/dL\\nRenal biopsy shows intravascular spindle-shaped vacuoles. Which of the following is the most likely cause of this patient\\'s symptoms?\"', 'A 39-year-olHemolytic uremic syndromed woman is brought to the emergency department because of fevers, chills, and left lower quadrant pain. Her temperature is 39.1°C (102.3°F), pulse is 126/min, respirations are 28/min, and blood pressure is 80/50 mm Hg. There is blood oozing around the site of a peripheral intravenous line. Pelvic examination shows mucopurulent discharge from the cervical os and left adnexal tenderness. Laboratory studies show:\\nPlatelet count 14,200/mm3\\nFibrinogen 83 mg/mL (N = 200–430 mg/dL)\\nD-dimer 965 ng/mL (N < 500 ng/mL)\\nWhen phenol is applied to a sample of the patient\\'s blood at 90°C, a phosphorylated N-acetylglucosamine dimer with 6 fatty acids attached to a polysaccharide side chain is identified. A blood culture is most likely to show which of the following?\"', 'A 35-year-old man comes to the physician because of itchy, watery eyes for the past week. He has also been sneezing multiple times a day during this period. He had a similar episode 1 year ago around springtime. He has iron deficiency anemia and ankylosing spondylitis. Current medications include ferrous sulfate, artificial tear drops, and indomethacin. He works as an elementary school teacher. His vital signs are within normal limits. Visual acuity is 20/20 without correction. Physical examination shows bilateral conjunctival injection with watery discharge. The pupils are 3 mm, equal, and reactive to light. Examination of the anterior chamber of the eye is unremarkable. Which of the following is the most appropriate treatment?', 'A 39-year-old man presents to the emergency department because of progressively worsening chest pain and nausea that started at a local bar 30 minutes prior. The pain radiates to the epigastric area. He has a 5-year history of untreated hypertension. He has smoked 1 pack of cigarettes daily for the past 5 years and started abusing cocaine 2 weeks before his emergency room visit. The patient is diaphoretic and in marked distress. What should be the first step in management?', \"A 68-year-old male comes to the physician for evaluation of right flank pain. He has a history of diabetes and peripheral artery disease. His blood pressure is 160/90 mm Hg. Physical examination shows abdominal tenderness and right flank tenderness. An ultrasound shows dilation of the right ureter and renal pelvis. Which of the following is the most likely underlying cause of this patient's condition?\", \"A 65-year-old man is brought to the emergency department 30 minutes after the onset of acute chest pain. He has hypertension and asthma. Current medications include atorvastatin, lisinopril, and an albuterol inhaler. He appears pale and diaphoretic. His pulse is 114/min and blood pressure is 130/88 mm Hg. An ECG shows ST-segment depressions in leads II, III, and aVF. Laboratory studies show an increased serum troponin T concentration. The patient is treated for acute coronary syndrome and undergoes percutaneous transluminal coronary angioplasty. At the time of discharge, echocardiography shows a left ventricular ejection fraction of 58%. In addition to aspirin, which of the following drugs should be added to this patient's medication regimen?\", 'A 37-year-old-woman presents to her primary care physician requesting a new form of birth control. She has been utilizing oral contraceptive pills (OCPs) for the past 8 years, but asks to switch to an intrauterine device (IUD). Her vital signs are: blood pressure 118/78 mm Hg, pulse 73/min and respiratory rate 16/min. She is afebrile. Physical examination is within normal limits. Which of the following past medical history statements would make copper IUD placement contraindicated in this patient?', 'A 23-year-old woman comes to the physician because she is embarrassed about the appearance of her nails. She has no history of serious illness and takes no medications. She appears well. A photograph of the nails is shown. Which of the following additional findings is most likely in this patient?', 'A 24-year-old G2P1 woman at 39 weeks’ gestation presents to the emergency department complaining of painful contractions occurring every 10 minutes for the past 2 hours, consistent with latent labor. She says she has not experienced vaginal discharge, bleeding, or fluid leakage, and is currently taking no medications. On physical examination, her blood pressure is 110/70 mm Hg, heart rate is 86/min, and temperature is 37.6°C (99.7°F). She has had little prenatal care and uses condoms inconsistently. Her sexually transmitted infections status is unknown. As part of the patient’s workup, she undergoes a series of rapid screening tests that result in the administration of zidovudine during delivery. The infant is also given zidovudine to reduce the risk of transmission. A confirmatory test is then performed in the mother to confirm the diagnosis of HIV. Which of the following is most true about the confirmatory test?', 'A 72-year-old man comes to the physician because of a 2-month history of fatigue and worsening abdominal pain. During this period, he also has excessive night sweats and shortness of breath on exertion. Over the past 3 months, he has had a 5.6-kg (12-lb) weight loss. He had a myocardial infarction 3 years ago. He has hypertension, diabetes mellitus, and chronic bronchitis. His medications include insulin, aspirin, lisinopril, and an albuterol inhaler. He has smoked half a pack of cigarettes for the past 45 years. Vital signs are within normal limits. The spleen is palpated 6 cm below the left costal margin. Laboratory studies show:\\nHemoglobin 6.4 g/dL\\nMean corpuscular volume 85 μm3\\nLeukocyte count 5,200/mm3\\nPlatelet count 96,000/mm3\\nA blood smear is shown. Bone marrow aspiration shows extensive fibrosis and a few scattered plasma cells. A JAK 2 assay is positive. Which of the following is the most appropriate next step in management?\"', 'A 20-year-old man comes to the physician because of worsening gait unsteadiness and bilateral hearing loss for 1 month. He has had intermittent tingling sensations on both cheeks over this time period. He has no history of serious medical illness and takes no medications. Audiometry shows bilateral sensorineural hearing loss. Genetic evaluation shows a mutation of a tumor suppressor gene on chromosome 22 that encodes merlin. This patient is at increased risk for which of the following conditions?', 'A 47-year-old executive schedules an appointment his physician for a routine medical check-up. He currently has no complaints and claims to be “as fit as a fiddle.” The physical examination findings are unremarkable, except for a mid-systolic murmur heard in the 2nd left intercostal space that radiates to the carotids on auscultation. The physician instructs the patient to stand from a supine position with the stethoscope still placed on his chest. Which of the following changes would occur with this maneuver?', 'A microbiologist is studying the emergence of a virulent strain of the virus. After a detailed study of the virus and its life cycle, he proposes a theory: Initially, a host cell is co-infected with 2 viruses from the same virus family. Within the host cell, concomitant production of various genome segments from both viruses occurs. Ultimately, the different genome segments from the viruses are packaged into a unique and novel virus particle. The newly formed virus particle is both stable and viable and is a new strain from the virus family that caused the outbreak of infection. Which of the following viruses is capable of undergoing the above-mentioned process?', 'A 59-year-old overweight woman presents to the urgent care clinic with the complaint of severe abdominal pain for the past 2 hours. She also complains of a dull pain in her back with nausea and vomiting several times. Her pain has no relation with food. Her past medical history is significant for recurrent abdominal pain due to cholelithiasis. Her father died at the age of 60 with some form of abdominal cancer. Her temperature is 37°C (98.6°F), respirations are 15/min, pulse is 67/min, and blood pressure is 122/98 mm Hg. Physical exam is unremarkable. However, a CT scan of the abdomen shows a calcified mass near her gallbladder. Which of the following diagnoses should be excluded first in this patient?', 'A 7-year-old boy is brought to his pediatrician’s office for a follow-up visit. He was diagnosed with asthma when he was 3 years old and has since been on treatment for the condition. He is currently on a β-agonist inhaler because of exacerbation of his symptoms. He has observed that his symptoms are more prominent in springtime, especially when the new flowers are blooming. His mother has a backyard garden and whenever he goes out to play there, he experiences chest tightness with associated shortness of breath. He has been advised to take more precaution during this seasonal change and to stay away from pollen. He is also being considered for an experimental therapy, which attenuates the activity of certain mediators which cause his asthmatic attack. The targeted mediator favors the class switching of antibodies. A reduction in this mechanism will eventually reduce the exaggerated response observed during his asthmatic attacks, even when exposed to an allergen. Which of the following mediators is described in this experimental study?', \"A 3-month-old boy is brought the emergency department by his parents after an episode of cyanosis and muscle hypotonia that resolved after 2 minutes. Diagnostic evaluation fails to discover an exact etiology of the boy's symptoms and the episode is classified as a brief resolved unexplained event (BRUE). The risk profile for BRUE in infants remains largely unknown. The pediatrician who saw the boy in the emergency department is trying to identify risk factors for BRUE. She is aware of several confounders, including age, socioeconomic background, and family history of medical illness. She recruits 75 infants under 1 year of age with BRUE and 75 infants without BRUE of the same age, socioeconomic background, and family history of medical illness. She then compares the two groups with regard to history of feeding problems and history of recent upper respiratory infection. Which of the following methods was conducted to control confounding bias in the study?\", 'A 29-year-old man presents to the emergency department due to central chest pain over the past 3 days which is constant and unrelated to exertion. The pain is sharp, severe, increases when lying down, and improves with leaning forward. The pain also radiates to his shoulders and neck. The patient has no past medical history. He has smoked 10 cigarettes per day for the past 7 years and occasionally drinks alcohol. He presents with vital signs: blood pressure 110/70 mm Hg, regular radial pulse of 95/min, and temperature 37.3°C (99.1°F). On physical exam, a scratching sound of to-and-from character is audible over the left sternal border at end-expiration with the patient leaning forward. His chest X-ray is normal and ECG is shown in the picture. Which of the following is the optimal therapy for this patient?', \"A 46-year-old man is brought to the emergency department for evaluation of altered mental status. He was found on the floor in front of his apartment. He is somnolent but responsive when aroused. His pulse is 64/min, respiratory rate is 15/min, and blood pressure is 120/75 mm Hg. On physical examination, an alcoholic smell and slurred speech are noted. Neurological exam shows diminished deep tendon reflexes bilaterally and an ataxic gait. His pupils are normal. Blood alcohol concentration is 0.04%. An ECG shows no abnormalities. Which of the following is the most likely cause of this patient's symptoms?\"], 'answer': ['Tell the attending that he cannot fail to disclose this mistake', 'Cross-linking of DNA', 'Cholesterol embolization', 'Lactose-fermenting, gram-negative rods forming pink colonies on MacConkey agar', 'Ketotifen eye drops', 'Reassurance and continuous monitoring', 'Common iliac artery aneurysm', 'Clopidogrel', 'Active or recurrent pelvic inflammatory disease (PID)', 'Silvery plaques on extensor surfaces', 'It is an HIV-1/HIV2 antibody differentiation immunoassay', 'Ruxolitinib', 'Meningioma', 'A reduction in diastolic filling time', 'Rotavirus', 'Gallbladder cancer', 'IL-4', 'Matching', 'Ibuprofen + colchicine +/- omeprazole', 'Benzodiazepine intoxication\\n\"'], 'options': [{'A': 'Disclose the error to the patient but leave it out of the operative report', 'B': 'Disclose the error to the patient and put it in the operative report', 'C': 'Tell the attending that he cannot fail to disclose this mistake', 'D': 'Report the physician to the ethics committee', 'E': 'Refuse to dictate the operative report'}, {'A': 'Inhibition of thymidine synthesis', 'B': 'Inhibition of proteasome', 'C': 'Hyperstabilization of microtubules', 'D': 'Generation of free radicals', 'E': 'Cross-linking of DNA'}, {'A': 'Renal papillary necrosis', 'B': 'Allergic interstitial nephritis', 'C': 'Cholesterol embolization', 'D': 'Eosinophilic granulomatosis with polyangiitis', 'E': 'Polyarteritis nodosa'}, {'A': 'Coagulase-positive, gram-positive cocci forming mauve-colored colonies on methicillin-containing agar', 'B': 'Encapsulated, gram-negative coccobacilli forming grey-colored colonies on charcoal blood agar', 'C': 'Spore-forming, gram-positive bacilli forming yellow colonies on casein agar', 'D': 'Lactose-fermenting, gram-negative rods forming pink colonies on MacConkey agar', 'E': 'Gamma-hemolytic, gram-positive cocci forming green colonies on vancomycin agar'}, {'A': 'Erythromycin ointment', 'B': 'Ketotifen eye drops', 'C': 'Warm compresses', 'D': 'Fluorometholone eye drops', 'E': 'Latanoprost eye drops'}, {'A': 'Diltiazem', 'B': 'Labetalol', 'C': 'Nitroglycerin', 'D': 'Propranolol', 'E': 'Reassurance and continuous monitoring'}, {'A': 'Renal artery stenosis', 'B': 'Benign prostatic hyperplasia', 'C': 'Diabetic nephropathy', 'D': 'Common iliac artery aneurysm', 'E': 'Urethral stricture'}, {'A': 'Nifedipine', 'B': 'Enoxaparin', 'C': 'Clopidogrel', 'D': 'Spironolactone', 'E': 'Propranolol\\n\"'}, {'A': 'A history of stroke or venous thromboembolism', 'B': 'Current tobacco use', 'C': 'Active or recurrent pelvic inflammatory disease (PID)', 'D': 'Past medical history of breast cancer', 'E': 'Known liver neoplasm'}, {'A': 'Silvery plaques on extensor surfaces', 'B': 'Flesh-colored papules in the lumbosacral region', 'C': 'Erosions of the dental enamel', 'D': 'Pallor of the conjunctival mucosa', 'E': 'Holosystolic murmur at the left lower sternal border'}, {'A': 'It determines the genotype of the virus', 'B': 'It is a Southwestern blot, identifying the presence of DNA-binding proteins', 'C': 'It is a Northern blot, identifying the presence of RNA', 'D': 'It is a Northern blot, identifying the presence of DNA', 'E': 'It is an HIV-1/HIV2 antibody differentiation immunoassay'}, {'A': 'Cladribine', 'B': 'Prednisone', 'C': 'Imatinib', 'D': 'Ruxolitinib', 'E': 'Stem cell transplantation'}, {'A': 'Renal cell carcinoma', 'B': 'Meningioma', 'C': 'Astrocytoma', 'D': 'Vascular malformations', 'E': 'Telangiectasias'}, {'A': 'An increase in right atrial pressure', 'B': 'An increase in left ventricular end-diastolic pressure', 'C': 'An increase in pulmonary capillary wedge pressure', 'D': 'A reduction in the slope of the pacemaker potential', 'E': 'A reduction in diastolic filling time'}, {'A': 'Cytomegalovirus', 'B': 'Epstein-Barr virus', 'C': 'Human immunodeficiency virus', 'D': 'Rotavirus', 'E': 'Vaccinia virus'}, {'A': 'Acute cholecystitis', 'B': 'Gallbladder cancer', 'C': 'Choledocholithiasis', 'D': 'Pancreatitis', 'E': 'Duodenal peptic ulcer'}, {'A': 'IL-5', 'B': 'IL-2', 'C': 'IL-10', 'D': 'IL-13', 'E': 'IL-4'}, {'A': 'Stratified analysis', 'B': 'Blinding', 'C': 'Restriction', 'D': 'Randomization', 'E': 'Matching'}, {'A': 'Indomethacin +/- omeprazole', 'B': 'Ibuprofen + colchicine +/- omeprazole', 'C': 'Prednisone + colchicine', 'D': 'Pericardiocentesis', 'E': 'Pericardiectomy'}, {'A': 'Hypoglycemia', 'B': 'Cerebral ischemia', 'C': 'Ethanol intoxication', 'D': 'Cannabis intoxication', 'E': 'Benzodiazepine intoxication\\n\"'}], 'meta_info': ['step1', 'step1', 'step2&3', 'step1', 'step2&3', 'step2&3', 'step1', 'step2&3', 'step2&3', 'step1', 'step1', 'step2&3', 'step1', 'step1', 'step1', 'step2&3', 'step2&3', 'step2&3', 'step2&3', 'step2&3'], 'answer_idx': ['C', 'E', 'C', 'D', 'B', 'E', 'D', 'C', 'C', 'A', 'E', 'D', 'B', 'E', 'D', 'B', 'E', 'E', 'B', 'E']}\n"
     ]
    }
   ],
   "source": [
    "print(medqa_test_set['train'][:20])"
   ],
   "metadata": {
    "collapsed": false,
    "ExecuteTime": {
     "end_time": "2024-12-22T10:54:41.748068Z",
     "start_time": "2024-12-22T10:54:41.733783Z"
    }
   },
   "id": "be80ef308812cde5",
   "execution_count": 6
  },
  {
   "cell_type": "code",
   "outputs": [
    {
     "data": {
      "text/plain": "Filter:   0%|          | 0/1273 [00:00<?, ? examples/s]",
      "application/vnd.jupyter.widget-view+json": {
       "version_major": 2,
       "version_minor": 0,
       "model_id": "17e09eedf9cf4bf4906cdecd10c08b17"
      }
     },
     "metadata": {},
     "output_type": "display_data"
    }
   ],
   "source": [
    "#it can be seen from the dataset that the diagnosis questions suit our needs most. \n",
    "filtered_medqa_test_set = medqa_test_set['train'].filter(lambda example: 'diagnosis' in example['question'] )"
   ],
   "metadata": {
    "collapsed": false,
    "ExecuteTime": {
     "end_time": "2024-12-22T10:54:41.809531Z",
     "start_time": "2024-12-22T10:54:41.750070Z"
    }
   },
   "id": "aeb2c05f2987dc18",
   "execution_count": 7
  },
  {
   "cell_type": "code",
   "outputs": [
    {
     "name": "stdout",
     "output_type": "stream",
     "text": [
      "Dataset({\n",
      "    features: ['question', 'answer', 'options', 'meta_info', 'answer_idx'],\n",
      "    num_rows: 189\n",
      "})\n"
     ]
    }
   ],
   "source": [
    "print(filtered_medqa_test_set)"
   ],
   "metadata": {
    "collapsed": false,
    "ExecuteTime": {
     "end_time": "2024-12-22T10:54:41.825520Z",
     "start_time": "2024-12-22T10:54:41.810611Z"
    }
   },
   "id": "c453923cc35495f8",
   "execution_count": 8
  },
  {
   "cell_type": "code",
   "outputs": [],
   "source": [
    "#A confirmatory test is then performed in the mother to confirm the diagnosis of HIV. Which of the following is most true about the confirmatory test? This question is not good enough.we need other filtering methods.\n",
    "# Which of the following is the most likely diagnosis?' is a good question."
   ],
   "metadata": {
    "collapsed": false,
    "ExecuteTime": {
     "end_time": "2024-12-22T10:54:41.841379Z",
     "start_time": "2024-12-22T10:54:41.826769Z"
    }
   },
   "id": "cae27891bc78b0d3",
   "execution_count": 9
  },
  {
   "cell_type": "code",
   "outputs": [
    {
     "data": {
      "text/plain": "Filter:   0%|          | 0/1273 [00:00<?, ? examples/s]",
      "application/vnd.jupyter.widget-view+json": {
       "version_major": 2,
       "version_minor": 0,
       "model_id": "57d38e0a4b204a8c8489adc165203a06"
      }
     },
     "metadata": {},
     "output_type": "display_data"
    }
   ],
   "source": [
    "filtered_medqa_test_set2 = medqa_test_set['train'].filter(lambda example: 'the most likely diagnosis' in example['question'] )"
   ],
   "metadata": {
    "collapsed": false,
    "ExecuteTime": {
     "end_time": "2024-12-22T10:54:41.887714Z",
     "start_time": "2024-12-22T10:54:41.842437Z"
    }
   },
   "id": "8f410f806753eb7c",
   "execution_count": 10
  },
  {
   "cell_type": "code",
   "outputs": [
    {
     "name": "stdout",
     "output_type": "stream",
     "text": [
      "Dataset({\n",
      "    features: ['question', 'answer', 'options', 'meta_info', 'answer_idx'],\n",
      "    num_rows: 125\n",
      "})\n"
     ]
    }
   ],
   "source": [
    "print(filtered_medqa_test_set2)"
   ],
   "metadata": {
    "collapsed": false,
    "ExecuteTime": {
     "end_time": "2024-12-22T10:54:41.903309Z",
     "start_time": "2024-12-22T10:54:41.888879Z"
    }
   },
   "id": "b18965ba48464063",
   "execution_count": 11
  },
  {
   "cell_type": "code",
   "outputs": [],
   "source": [
    "#much better now"
   ],
   "metadata": {
    "collapsed": false,
    "ExecuteTime": {
     "end_time": "2024-12-22T10:54:41.919326Z",
     "start_time": "2024-12-22T10:54:41.905904Z"
    }
   },
   "id": "29375c34d2b99503",
   "execution_count": 12
  },
  {
   "cell_type": "code",
   "outputs": [],
   "source": [
    "#这样子就可以了，将其转化为OSEC等格式其实并无必要"
   ],
   "metadata": {
    "collapsed": false,
    "ExecuteTime": {
     "end_time": "2024-12-22T10:54:41.934808Z",
     "start_time": "2024-12-22T10:54:41.922636Z"
    }
   },
   "id": "cc6af52150143fab",
   "execution_count": 13
  },
  {
   "cell_type": "code",
   "outputs": [],
   "source": [
    "num_cases = 5  # number of cases to generate\n",
    "#the first 5 cases for example"
   ],
   "metadata": {
    "collapsed": false,
    "ExecuteTime": {
     "end_time": "2024-12-22T10:54:41.950101Z",
     "start_time": "2024-12-22T10:54:41.935890Z"
    }
   },
   "id": "877a49b95f94f798",
   "execution_count": 14
  },
  {
   "cell_type": "code",
   "outputs": [],
   "source": [
    "import openai\n",
    "#the different between system and user：system role will exist longer than user role"
   ],
   "metadata": {
    "collapsed": false,
    "ExecuteTime": {
     "end_time": "2024-12-22T10:54:41.997562Z",
     "start_time": "2024-12-22T10:54:41.951158Z"
    }
   },
   "id": "fa2a1c832f4baf6a",
   "execution_count": 15
  },
  {
   "cell_type": "code",
   "outputs": [],
   "source": [
    "openai.api_key =\"\""
   ],
   "metadata": {
    "collapsed": false,
    "ExecuteTime": {
     "end_time": "2024-12-22T10:54:42.012714Z",
     "start_time": "2024-12-22T10:54:41.999649Z"
    }
   },
   "id": "c2e8afe82961a093",
   "execution_count": 16
  },
  {
   "cell_type": "code",
   "outputs": [],
   "source": [
    "template = \"\"\" \n",
    "{ \n",
    "    \"Patient Information\": {\n",
    "      \"Gender and Age\": 例如\"67-year-old man\",\n",
    "      \"Patient History\":请在这里填写除了\"性别年龄、Test_Results、disease、Physical_Examination_Findings\"以外的所有信息,可以与其它非\"性别年龄、Test_Results、disease、Physical_Examination_Findings\"的栏目重复，但不能遗漏。请将最近的检查结果放置于\"Test_Results\"或\"Physical_Examination_Findings\"一栏,\n",
    "      \"Chief Complaint\": 在这里填写患者此次就诊的主要原因或最突出的症状，如 \"Right knee swelling and pain\",\n",
    "      \"Secondary Symptoms\": 在这里填写患者的次要症状，如 \"Back pain\",\n",
    "      \"Past_Medical_History\":在这里填写患者以前诊断过的疾病、健康问题及相关治疗,\n",
    "      \"Social_History\":如果存在吸烟、饮酒、药物使用、饮食习惯、运动情况。职业与居住工作环境，旅行史，家庭和人际关系，婚姻状况、文化与宗教等因素等与social_history有关的信息请填写在这里。\n",
    "      \"Review_of_Systems\": 在这里填写其余的额外事项，包括患者否认的症状,\n",
    "    },\n",
    "    \"Physical_Examination_Findings\": {\n",
    "      \"Main_Signs\": { 在这里填写体温、血压、心率、呼吸率等信息，如果有的话\n",
    "      },\n",
    "      \"System Examination\": {\n",
    "      Physical examination is notable for pitting of his nails.\n",
    "      }\n",
    "    },\n",
    "    \"Test_Results\": 在这里填写所有的检查结果和检查项目名，例如\"Laboratory\"、\"Imaging\"、\"Other_Tests\"等等,所有涉及到数字的实验室检查都应该放在这里。\n",
    "    },\n",
    "}\n",
    "\"\"\""
   ],
   "metadata": {
    "collapsed": false,
    "ExecuteTime": {
     "end_time": "2024-12-22T11:49:47.334627Z",
     "start_time": "2024-12-22T11:49:47.322870Z"
    }
   },
   "id": "866d16fdb34d85e",
   "execution_count": 57
  },
  {
   "cell_type": "code",
   "outputs": [
    {
     "name": "stdout",
     "output_type": "stream",
     "text": [
      "Dataset({\n",
      "    features: ['question', 'answer', 'options', 'meta_info', 'answer_idx'],\n",
      "    num_rows: 125\n",
      "})\n"
     ]
    }
   ],
   "source": [
    "print(filtered_medqa_test_set2)"
   ],
   "metadata": {
    "collapsed": false,
    "ExecuteTime": {
     "end_time": "2024-12-22T11:49:49.965593Z",
     "start_time": "2024-12-22T11:49:49.955067Z"
    }
   },
   "id": "42db1242dfe8f90d",
   "execution_count": 58
  },
  {
   "cell_type": "code",
   "outputs": [
    {
     "name": "stdout",
     "output_type": "stream",
     "text": [
      "```json\n",
      "{\n",
      "  \"Patient Information\": {\n",
      "    \"Gender and Age\": \"27-year-old man\",\n",
      "    \"Patient History\": \"The patient was involved in a motor vehicle collision as the front seat unrestrained driver in a head-on collision. The patient was given 2 liters of Ringer lactate solution and morphine for initial management.\",\n",
      "    \"Chief Complaint\": \"Chest pain\",\n",
      "    \"Secondary Symptoms\": \"Bruising over his chest wall\",\n",
      "    \"Past_Medical_History\": \"Not provided\",\n",
      "    \"Social_History\": \"Not provided\",\n",
      "    \"Review_of_Systems\": \"The review of systems is not fully documented but includes the patient's current symptoms.\"\n",
      "  },\n",
      "  \"Physical_Examination_Findings\": {\n",
      "    \"Main_Signs\": {\n",
      "      \"Temperature\": \"99.5°F (37.5°C)\",\n",
      "      \"Blood Pressure\": \"107/58 mmHg\",\n",
      "      \"Pulse\": \"120/min\",\n",
      "      \"Respirations\": \"17/min\",\n",
      "      \"Oxygen Saturation\": \"98% on room air\"\n",
      "    },\n",
      "    \"System Examination\": \"Physical examination is notable for an uncomfortable young man with bruising over his chest wall.\"\n",
      "  },\n",
      "  \"Test_Results\": \"The patient’s echocardiogram (ECG) is notable only for sinus tachycardia. Initial workup demonstrates that the patient’s pulmonary capillary wedge pressure and troponins are elevated.\",\n",
      "  \"Correct_Diagnosis\": \"Cardiac contusion\"\n",
      "}\n",
      "```\n"
     ]
    }
   ],
   "source": [
    "# for instance in filtered_medqa_test_set3:\n",
    "messages = [\n",
    "    {\"role\": \"system\", \"content\": \"你是一个用于将MedQA医疗数据集中的医疗问题转化为交互式评价基准的专家。你的目标是生成一个满足要求的结构化JSON文件。你不能遗漏任何在数据中出现的信息。\"},\n",
    "    {\"role\": \"user\", \"content\": \" 请按照接下来提供的模板填充数据{}.\".format(template) + \"请阅读 \\\"answer\\\" 类别以获得正确的诊断结果，并将其填充在\\\"Correct_Diagnosis\\\"一栏\\n\\n下面是你需要修改的信息{}\".format(filtered_medqa_test_set2[4]) + \"\"\"\\n\\n请直接回复正确的填充结果\\n\"\"\"}\n",
    "]\n",
    "# Generate OSCE json\n",
    "response = openai.ChatCompletion.create(\n",
    "        model=\"gpt-4-turbo-preview\",\n",
    "        messages=messages,\n",
    "    )\n",
    "print(response.choices[0].message['content'])"
   ],
   "metadata": {
    "collapsed": false,
    "ExecuteTime": {
     "end_time": "2024-12-22T11:49:59.303039Z",
     "start_time": "2024-12-22T11:49:51.839076Z"
    }
   },
   "id": "f8bec2d0e6b8f94",
   "execution_count": 59
  },
  {
   "cell_type": "code",
   "outputs": [
    {
     "name": "stdout",
     "output_type": "stream",
     "text": [
      "{'question': 'A 27-year-old man presents to the emergency department after a motor vehicle collision. The patient was the front seat unrestrained driver in a head on collision. The patient’s echocardiogram (ECG) is notable only for sinus tachycardia. His temperature is 99.5°F (37.5°C), blood pressure is 107/58 mmHg, pulse is 120/min, respirations are 17/min, and oxygen saturation is 98% on room air. The patient is given 2 liters of Ringer lactate solution and morphine. Initial workup demonstrates that the patient’s pulmonary capillary wedge pressure and troponins are elevated. The patient is currently complaining of chest pain. Physical exam is notable for an uncomfortable young man with bruising over his chest wall. Which of the following is the most likely diagnosis?', 'answer': 'Cardiac contusion', 'options': {'A': 'Cardiac contusion', 'B': 'Hemorrhage', 'C': 'Myocardial infarction', 'D': 'Pulmonary contusion', 'E': 'Takotsubo cardiomyopathy'}, 'meta_info': 'step2&3', 'answer_idx': 'A'}\n"
     ]
    }
   ],
   "source": [
    "print(filtered_medqa_test_set2[4])"
   ],
   "metadata": {
    "collapsed": false,
    "ExecuteTime": {
     "end_time": "2024-12-22T11:50:09.722284Z",
     "start_time": "2024-12-22T11:50:09.709603Z"
    }
   },
   "id": "cc8ba14b96ab9f9f",
   "execution_count": 60
  },
  {
   "cell_type": "code",
   "outputs": [],
   "source": [
    "for i in range(3):\n",
    "    messages = [\n",
    "        {\"role\": \"system\", \"content\": \"你是一个用于将MedQA医疗数据集中的医疗问题转化为交互式评价基准的专家。你的目标是生成一个满足要求的结构化JSON文件。你不能遗漏任何在数据中出现的信息。\"},\n",
    "        {\"role\": \"user\", \"content\": \" 请按照接下来提供的模板填充数据{}.\".format(template) + \"请阅读 \\\"answer\\\" 类别以获得正确的诊断结果，并将其填充在\\\"Correct_Diagnosis\\\"一栏\\n\\n下面是你需要修改的信息{}\".format(filtered_medqa_test_set2[i]) + \"\"\"\\n\\n请直接回复正确的填充结果\\n\"\"\"}\n",
    "    ]\n",
    "    # Generate OSCE json\n",
    "    response = openai.ChatCompletion.create(\n",
    "            model=\"gpt-4-turbo-preview\",\n",
    "            messages=messages,\n",
    "        )\n",
    "    # Save the generated json file\n",
    "    with open('MedQA_organized.json', 'a', encoding='utf-8') as json_file:\n",
    "        json_file.write(response.choices[0].message['content'])\n",
    "    "
   ],
   "metadata": {
    "collapsed": false,
    "ExecuteTime": {
     "end_time": "2024-12-22T12:12:41.283871Z",
     "start_time": "2024-12-22T12:12:16.223277Z"
    }
   },
   "id": "99483a8a30b6e253",
   "execution_count": 73
  },
  {
   "cell_type": "code",
   "outputs": [],
   "source": [],
   "metadata": {
    "collapsed": false
   },
   "id": "5c6f79df6a019d8f"
  }
 ],
 "metadata": {
  "kernelspec": {
   "display_name": "Python 3",
   "language": "python",
   "name": "python3"
  },
  "language_info": {
   "codemirror_mode": {
    "name": "ipython",
    "version": 2
   },
   "file_extension": ".py",
   "mimetype": "text/x-python",
   "name": "python",
   "nbconvert_exporter": "python",
   "pygments_lexer": "ipython2",
   "version": "2.7.6"
  }
 },
 "nbformat": 4,
 "nbformat_minor": 5
}
